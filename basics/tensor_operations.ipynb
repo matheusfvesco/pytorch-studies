{
 "cells": [
  {
   "cell_type": "markdown",
   "metadata": {},
   "source": [
    "# Tensor Operations\n",
    "\n",
    "When developing Neural Networks (NNs) or extracting information or results from NNs, moving tensors from and to specific devices, changing its shape and more are really common operations. This notebook covers basic tensors operations."
   ]
  },
  {
   "cell_type": "code",
   "execution_count": 1,
   "metadata": {},
   "outputs": [
    {
     "name": "stdout",
     "output_type": "stream",
     "text": [
      "Collecting torch==2.3.0\n",
      "  Downloading torch-2.3.0-cp310-cp310-manylinux1_x86_64.whl.metadata (26 kB)\n",
      "Collecting numpy==1.25.2\n",
      "  Downloading numpy-1.25.2-cp310-cp310-manylinux_2_17_x86_64.manylinux2014_x86_64.whl.metadata (5.6 kB)\n",
      "Collecting pillow==9.4.0\n",
      "  Downloading Pillow-9.4.0-cp310-cp310-manylinux_2_28_x86_64.whl.metadata (9.3 kB)\n",
      "Collecting torchvision==0.18\n",
      "  Downloading torchvision-0.18.0-cp310-cp310-manylinux1_x86_64.whl.metadata (6.6 kB)\n",
      "Requirement already satisfied: filelock in /usr/local/lib/python3.10/dist-packages (from torch==2.3.0) (3.16.1)\n",
      "Requirement already satisfied: typing-extensions>=4.8.0 in /usr/local/lib/python3.10/dist-packages (from torch==2.3.0) (4.12.2)\n",
      "Requirement already satisfied: sympy in /usr/local/lib/python3.10/dist-packages (from torch==2.3.0) (1.13.3)\n",
      "Requirement already satisfied: networkx in /usr/local/lib/python3.10/dist-packages (from torch==2.3.0) (3.3)\n",
      "Requirement already satisfied: jinja2 in /usr/local/lib/python3.10/dist-packages (from torch==2.3.0) (3.1.4)\n",
      "Requirement already satisfied: fsspec in /usr/local/lib/python3.10/dist-packages (from torch==2.3.0) (2024.6.1)\n",
      "Collecting nvidia-cuda-nvrtc-cu12==12.1.105 (from torch==2.3.0)\n",
      "  Downloading nvidia_cuda_nvrtc_cu12-12.1.105-py3-none-manylinux1_x86_64.whl.metadata (1.5 kB)\n",
      "Collecting nvidia-cuda-runtime-cu12==12.1.105 (from torch==2.3.0)\n",
      "  Downloading nvidia_cuda_runtime_cu12-12.1.105-py3-none-manylinux1_x86_64.whl.metadata (1.5 kB)\n",
      "Collecting nvidia-cuda-cupti-cu12==12.1.105 (from torch==2.3.0)\n",
      "  Downloading nvidia_cuda_cupti_cu12-12.1.105-py3-none-manylinux1_x86_64.whl.metadata (1.6 kB)\n",
      "Collecting nvidia-cudnn-cu12==8.9.2.26 (from torch==2.3.0)\n",
      "  Downloading nvidia_cudnn_cu12-8.9.2.26-py3-none-manylinux1_x86_64.whl.metadata (1.6 kB)\n",
      "Collecting nvidia-cublas-cu12==12.1.3.1 (from torch==2.3.0)\n",
      "  Downloading nvidia_cublas_cu12-12.1.3.1-py3-none-manylinux1_x86_64.whl.metadata (1.5 kB)\n",
      "Collecting nvidia-cufft-cu12==11.0.2.54 (from torch==2.3.0)\n",
      "  Downloading nvidia_cufft_cu12-11.0.2.54-py3-none-manylinux1_x86_64.whl.metadata (1.5 kB)\n",
      "Collecting nvidia-curand-cu12==10.3.2.106 (from torch==2.3.0)\n",
      "  Downloading nvidia_curand_cu12-10.3.2.106-py3-none-manylinux1_x86_64.whl.metadata (1.5 kB)\n",
      "Collecting nvidia-cusolver-cu12==11.4.5.107 (from torch==2.3.0)\n",
      "  Downloading nvidia_cusolver_cu12-11.4.5.107-py3-none-manylinux1_x86_64.whl.metadata (1.6 kB)\n",
      "Collecting nvidia-cusparse-cu12==12.1.0.106 (from torch==2.3.0)\n",
      "  Downloading nvidia_cusparse_cu12-12.1.0.106-py3-none-manylinux1_x86_64.whl.metadata (1.6 kB)\n",
      "Collecting nvidia-nccl-cu12==2.20.5 (from torch==2.3.0)\n",
      "  Downloading nvidia_nccl_cu12-2.20.5-py3-none-manylinux2014_x86_64.whl.metadata (1.8 kB)\n",
      "Collecting nvidia-nvtx-cu12==12.1.105 (from torch==2.3.0)\n",
      "  Downloading nvidia_nvtx_cu12-12.1.105-py3-none-manylinux1_x86_64.whl.metadata (1.7 kB)\n",
      "Collecting triton==2.3.0 (from torch==2.3.0)\n",
      "  Downloading triton-2.3.0-cp310-cp310-manylinux_2_17_x86_64.manylinux2014_x86_64.whl.metadata (1.4 kB)\n",
      "Collecting nvidia-nvjitlink-cu12 (from nvidia-cusolver-cu12==11.4.5.107->torch==2.3.0)\n",
      "  Downloading nvidia_nvjitlink_cu12-12.6.77-py3-none-manylinux2014_x86_64.whl.metadata (1.5 kB)\n",
      "Requirement already satisfied: MarkupSafe>=2.0 in /usr/local/lib/python3.10/dist-packages (from jinja2->torch==2.3.0) (2.1.5)\n",
      "Requirement already satisfied: mpmath<1.4,>=1.1.0 in /usr/local/lib/python3.10/dist-packages (from sympy->torch==2.3.0) (1.3.0)\n",
      "Downloading torch-2.3.0-cp310-cp310-manylinux1_x86_64.whl (779.1 MB)\n",
      "\u001b[2K   \u001b[90m━━━━━━━━━━━━━━━━━━━━━━━━━━━━━━━━━━━━━━━━\u001b[0m \u001b[32m779.1/779.1 MB\u001b[0m \u001b[31m2.7 MB/s\u001b[0m eta \u001b[36m0:00:00\u001b[0m:00:01\u001b[0mm00:01\u001b[0m\n",
      "\u001b[?25hDownloading numpy-1.25.2-cp310-cp310-manylinux_2_17_x86_64.manylinux2014_x86_64.whl (18.2 MB)\n",
      "\u001b[2K   \u001b[90m━━━━━━━━━━━━━━━━━━━━━━━━━━━━━━━━━━━━━━━━\u001b[0m \u001b[32m18.2/18.2 MB\u001b[0m \u001b[31m33.3 MB/s\u001b[0m eta \u001b[36m0:00:00\u001b[0m00:01\u001b[0m00:01\u001b[0m\n",
      "\u001b[?25hDownloading Pillow-9.4.0-cp310-cp310-manylinux_2_28_x86_64.whl (3.4 MB)\n",
      "\u001b[2K   \u001b[90m━━━━━━━━━━━━━━━━━━━━━━━━━━━━━━━━━━━━━━━━\u001b[0m \u001b[32m3.4/3.4 MB\u001b[0m \u001b[31m16.7 MB/s\u001b[0m eta \u001b[36m0:00:00\u001b[0m00:01\u001b[0m00:01\u001b[0m\n",
      "\u001b[?25hDownloading torchvision-0.18.0-cp310-cp310-manylinux1_x86_64.whl (7.0 MB)\n",
      "\u001b[2K   \u001b[90m━━━━━━━━━━━━━━━━━━━━━━━━━━━━━━━━━━━━━━━━\u001b[0m \u001b[32m7.0/7.0 MB\u001b[0m \u001b[31m29.3 MB/s\u001b[0m eta \u001b[36m0:00:00\u001b[0m00:01\u001b[0m00:01\u001b[0m\n",
      "\u001b[?25hDownloading nvidia_cublas_cu12-12.1.3.1-py3-none-manylinux1_x86_64.whl (410.6 MB)\n",
      "\u001b[2K   \u001b[90m━━━━━━━━━━━━━━━━━━━━━━━━━━━━━━━━━━━━━━━━\u001b[0m \u001b[32m410.6/410.6 MB\u001b[0m \u001b[31m5.4 MB/s\u001b[0m eta \u001b[36m0:00:00\u001b[0m0:00:01\u001b[0m00:01\u001b[0m\n",
      "\u001b[?25hDownloading nvidia_cuda_cupti_cu12-12.1.105-py3-none-manylinux1_x86_64.whl (14.1 MB)\n",
      "\u001b[2K   \u001b[90m━━━━━━━━━━━━━━━━━━━━━━━━━━━━━━━━━━━━━━━━\u001b[0m \u001b[32m14.1/14.1 MB\u001b[0m \u001b[31m37.7 MB/s\u001b[0m eta \u001b[36m0:00:00\u001b[0m00:01\u001b[0m00:01\u001b[0m\n",
      "\u001b[?25hDownloading nvidia_cuda_nvrtc_cu12-12.1.105-py3-none-manylinux1_x86_64.whl (23.7 MB)\n",
      "\u001b[2K   \u001b[90m━━━━━━━━━━━━━━━━━━━━━━━━━━━━━━━━━━━━━━━━\u001b[0m \u001b[32m23.7/23.7 MB\u001b[0m \u001b[31m33.3 MB/s\u001b[0m eta \u001b[36m0:00:00\u001b[0m00:01\u001b[0m00:01\u001b[0mm\n",
      "\u001b[?25hDownloading nvidia_cuda_runtime_cu12-12.1.105-py3-none-manylinux1_x86_64.whl (823 kB)\n",
      "\u001b[2K   \u001b[90m━━━━━━━━━━━━━━━━━━━━━━━━━━━━━━━━━━━━━━━━\u001b[0m \u001b[32m823.6/823.6 kB\u001b[0m \u001b[31m10.6 MB/s\u001b[0m eta \u001b[36m0:00:00\u001b[0m:00:01\u001b[0m\n",
      "\u001b[?25hDownloading nvidia_cudnn_cu12-8.9.2.26-py3-none-manylinux1_x86_64.whl (731.7 MB)\n",
      "\u001b[2K   \u001b[90m━━━━━━━━━━━━━━━━━━━━━━━━━━━━━━━━━━━━━━━━\u001b[0m \u001b[32m731.7/731.7 MB\u001b[0m \u001b[31m2.9 MB/s\u001b[0m eta \u001b[36m0:00:00\u001b[0m:00:01\u001b[0m00:01\u001b[0mm\n",
      "\u001b[?25hDownloading nvidia_cufft_cu12-11.0.2.54-py3-none-manylinux1_x86_64.whl (121.6 MB)\n",
      "\u001b[2K   \u001b[90m━━━━━━━━━━━━━━━━━━━━━━━━━━━━━━━━━━━━━━━━\u001b[0m \u001b[32m121.6/121.6 MB\u001b[0m \u001b[31m7.0 MB/s\u001b[0m eta \u001b[36m0:00:00\u001b[0m:00:01\u001b[0m00:01\u001b[0mm\n",
      "\u001b[?25hDownloading nvidia_curand_cu12-10.3.2.106-py3-none-manylinux1_x86_64.whl (56.5 MB)\n",
      "\u001b[2K   \u001b[90m━━━━━━━━━━━━━━━━━━━━━━━━━━━━━━━━━━━━━━━━\u001b[0m \u001b[32m56.5/56.5 MB\u001b[0m \u001b[31m7.7 MB/s\u001b[0m eta \u001b[36m0:00:00\u001b[0m:00:01\u001b[0m00:01\u001b[0m\n",
      "\u001b[?25hDownloading nvidia_cusolver_cu12-11.4.5.107-py3-none-manylinux1_x86_64.whl (124.2 MB)\n",
      "\u001b[2K   \u001b[90m━━━━━━━━━━━━━━━━━━━━━━━━━━━━━━━━━━━━━━━━\u001b[0m \u001b[32m124.2/124.2 MB\u001b[0m \u001b[31m13.0 MB/s\u001b[0m eta \u001b[36m0:00:00\u001b[0m:00:01\u001b[0m00:01\u001b[0m\n",
      "\u001b[?25hDownloading nvidia_cusparse_cu12-12.1.0.106-py3-none-manylinux1_x86_64.whl (196.0 MB)\n",
      "\u001b[2K   \u001b[90m━━━━━━━━━━━━━━━━━━━━━━━━━━━━━━━━━━━━━━━━\u001b[0m \u001b[32m196.0/196.0 MB\u001b[0m \u001b[31m9.8 MB/s\u001b[0m eta \u001b[36m0:00:00\u001b[0m0:00:01\u001b[0m00:01\u001b[0m\n",
      "\u001b[?25hDownloading nvidia_nccl_cu12-2.20.5-py3-none-manylinux2014_x86_64.whl (176.2 MB)\n",
      "\u001b[2K   \u001b[90m━━━━━━━━━━━━━━━━━━━━━━━━━━━━━━━━━━━━━━━━\u001b[0m \u001b[32m176.2/176.2 MB\u001b[0m \u001b[31m10.0 MB/s\u001b[0m eta \u001b[36m0:00:00\u001b[0m00:01\u001b[0m00:01\u001b[0mm\n",
      "\u001b[?25hDownloading nvidia_nvtx_cu12-12.1.105-py3-none-manylinux1_x86_64.whl (99 kB)\n",
      "\u001b[2K   \u001b[90m━━━━━━━━━━━━━━━━━━━━━━━━━━━━━━━━━━━━━━━━\u001b[0m \u001b[32m99.1/99.1 kB\u001b[0m \u001b[31m1.3 MB/s\u001b[0m eta \u001b[36m0:00:00\u001b[0meta \u001b[36m0:00:01\u001b[0m\n",
      "\u001b[?25hDownloading triton-2.3.0-cp310-cp310-manylinux_2_17_x86_64.manylinux2014_x86_64.whl (168.1 MB)\n",
      "\u001b[2K   \u001b[90m━━━━━━━━━━━━━━━━━━━━━━━━━━━━━━━━━━━━━━━━\u001b[0m \u001b[32m168.1/168.1 MB\u001b[0m \u001b[31m10.7 MB/s\u001b[0m eta \u001b[36m0:00:00\u001b[0m00:01\u001b[0m00:01\u001b[0m\n",
      "\u001b[?25hDownloading nvidia_nvjitlink_cu12-12.6.77-py3-none-manylinux2014_x86_64.whl (19.7 MB)\n",
      "\u001b[2K   \u001b[90m━━━━━━━━━━━━━━━━━━━━━━━━━━━━━━━━━━━━━━━━\u001b[0m \u001b[32m19.7/19.7 MB\u001b[0m \u001b[31m27.8 MB/s\u001b[0m eta \u001b[36m0:00:00\u001b[0m:00:01\u001b[0m00:01\u001b[0m\n",
      "\u001b[?25hInstalling collected packages: triton, pillow, nvidia-nvtx-cu12, nvidia-nvjitlink-cu12, nvidia-nccl-cu12, nvidia-curand-cu12, nvidia-cufft-cu12, nvidia-cuda-runtime-cu12, nvidia-cuda-nvrtc-cu12, nvidia-cuda-cupti-cu12, nvidia-cublas-cu12, numpy, nvidia-cusparse-cu12, nvidia-cudnn-cu12, nvidia-cusolver-cu12, torch, torchvision\n",
      "  Attempting uninstall: pillow\n",
      "    Found existing installation: pillow 10.4.0\n",
      "    Uninstalling pillow-10.4.0:\n",
      "      Successfully uninstalled pillow-10.4.0\n",
      "  Attempting uninstall: nvidia-nccl-cu12\n",
      "    Found existing installation: nvidia-nccl-cu12 2.23.4\n",
      "    Uninstalling nvidia-nccl-cu12-2.23.4:\n",
      "      Successfully uninstalled nvidia-nccl-cu12-2.23.4\n",
      "  Attempting uninstall: numpy\n",
      "    Found existing installation: numpy 1.26.4\n",
      "    Uninstalling numpy-1.26.4:\n",
      "      Successfully uninstalled numpy-1.26.4\n",
      "  Attempting uninstall: torch\n",
      "    Found existing installation: torch 2.4.1+cu121\n",
      "    Uninstalling torch-2.4.1+cu121:\n",
      "      Successfully uninstalled torch-2.4.1+cu121\n",
      "  Attempting uninstall: torchvision\n",
      "    Found existing installation: torchvision 0.19.1+cu121\n",
      "    Uninstalling torchvision-0.19.1+cu121:\n",
      "      Successfully uninstalled torchvision-0.19.1+cu121\n",
      "\u001b[31mERROR: pip's dependency resolver does not currently take into account all the packages that are installed. This behaviour is the source of the following dependency conflicts.\n",
      "pandas-stubs 2.1.4.231227 requires numpy>=1.26.0; python_version < \"3.13\", but you have numpy 1.25.2 which is incompatible.\n",
      "torchaudio 2.4.1+cu121 requires torch==2.4.1, but you have torch 2.3.0 which is incompatible.\u001b[0m\u001b[31m\n",
      "\u001b[0mSuccessfully installed numpy-1.25.2 nvidia-cublas-cu12-12.1.3.1 nvidia-cuda-cupti-cu12-12.1.105 nvidia-cuda-nvrtc-cu12-12.1.105 nvidia-cuda-runtime-cu12-12.1.105 nvidia-cudnn-cu12-8.9.2.26 nvidia-cufft-cu12-11.0.2.54 nvidia-curand-cu12-10.3.2.106 nvidia-cusolver-cu12-11.4.5.107 nvidia-cusparse-cu12-12.1.0.106 nvidia-nccl-cu12-2.20.5 nvidia-nvjitlink-cu12-12.6.77 nvidia-nvtx-cu12-12.1.105 pillow-9.4.0 torch-2.3.0 torchvision-0.18.0 triton-2.3.0\n"
     ]
    },
    {
     "data": {
      "application/vnd.colab-display-data+json": {
       "id": "3d541e34c56047a985446056dc6f7693",
       "pip_warning": {
        "packages": [
         "PIL",
         "numpy"
        ]
       }
      }
     },
     "metadata": {},
     "output_type": "display_data"
    },
    {
     "name": "stdout",
     "output_type": "stream",
     "text": [
      "Torch version: 2.3.0+cu121\n",
      "Torchvision version: 0.18.0+cu121\n",
      "Numpy version: 1.26.4\n",
      "PIL version: 10.4.0\n",
      "GPU enabled: True\n"
     ]
    }
   ],
   "source": [
    "# Ensures versions are correct\n",
    "! pip install torch==2.3.0 numpy==1.25.2 pillow==9.4.0 torchvision==0.18\n",
    "\n",
    "import torch\n",
    "import torchvision\n",
    "import numpy as np\n",
    "import PIL\n",
    "\n",
    "print(f\"Torch version: {torch.__version__}\")\n",
    "print(f\"Torchvision version: {torchvision.__version__}\")\n",
    "print(f\"Numpy version: {np.__version__}\")\n",
    "print(f\"PIL version: {PIL.__version__}\")\n",
    "print(f\"GPU enabled: {torch.cuda.is_available()}\")"
   ]
  },
  {
   "cell_type": "markdown",
   "metadata": {},
   "source": [
    "## Devices and Dtypes\n",
    "\n",
    "Torch have two classes that need to be introduced for the next steps."
   ]
  },
  {
   "cell_type": "markdown",
   "metadata": {},
   "source": [
    "### Devices\n",
    "\n",
    "The first class objects can be obtained using the `torch.device()` method. It is used to represent physical devices like CPUs, GPUs and TPUs."
   ]
  },
  {
   "cell_type": "code",
   "execution_count": 2,
   "metadata": {},
   "outputs": [
    {
     "data": {
      "text/plain": [
       "device(type='cpu')"
      ]
     },
     "execution_count": 2,
     "metadata": {},
     "output_type": "execute_result"
    }
   ],
   "source": [
    "device = torch.device(\"cpu\")\n",
    "device"
   ]
  },
  {
   "cell_type": "code",
   "execution_count": 3,
   "metadata": {},
   "outputs": [
    {
     "ename": "RuntimeError",
     "evalue": "Expected one of cpu, cuda, ipu, xpu, mkldnn, opengl, opencl, ideep, hip, ve, fpga, ort, xla, lazy, vulkan, mps, meta, hpu, mtia, privateuseone device type at start of device string: gpu",
     "output_type": "error",
     "traceback": [
      "\u001b[0;31m---------------------------------------------------------------------------\u001b[0m",
      "\u001b[0;31mRuntimeError\u001b[0m                              Traceback (most recent call last)",
      "\u001b[0;32m<ipython-input-3-95388c455311>\u001b[0m in \u001b[0;36m<cell line: 1>\u001b[0;34m()\u001b[0m\n\u001b[0;32m----> 1\u001b[0;31m \u001b[0mdevice\u001b[0m \u001b[0;34m=\u001b[0m \u001b[0mtorch\u001b[0m\u001b[0;34m.\u001b[0m\u001b[0mdevice\u001b[0m\u001b[0;34m(\u001b[0m\u001b[0;34m\"gpu\"\u001b[0m\u001b[0;34m)\u001b[0m\u001b[0;34m\u001b[0m\u001b[0;34m\u001b[0m\u001b[0m\n\u001b[0m\u001b[1;32m      2\u001b[0m \u001b[0mdevice\u001b[0m\u001b[0;34m\u001b[0m\u001b[0;34m\u001b[0m\u001b[0m\n",
      "\u001b[0;31mRuntimeError\u001b[0m: Expected one of cpu, cuda, ipu, xpu, mkldnn, opengl, opencl, ideep, hip, ve, fpga, ort, xla, lazy, vulkan, mps, meta, hpu, mtia, privateuseone device type at start of device string: gpu"
     ]
    }
   ],
   "source": [
    "device = torch.device(\"gpu\")\n",
    "device"
   ]
  },
  {
   "cell_type": "markdown",
   "metadata": {},
   "source": [
    "Oops, let's fix this. Now we can see the full list of expected values, though"
   ]
  },
  {
   "cell_type": "code",
   "execution_count": 4,
   "metadata": {},
   "outputs": [
    {
     "data": {
      "text/plain": [
       "device(type='cuda')"
      ]
     },
     "execution_count": 4,
     "metadata": {},
     "output_type": "execute_result"
    }
   ],
   "source": [
    "device = torch.device(\"cuda\")\n",
    "device"
   ]
  },
  {
   "cell_type": "code",
   "execution_count": 5,
   "metadata": {},
   "outputs": [
    {
     "data": {
      "text/plain": [
       "device(type='cuda', index=0)"
      ]
     },
     "execution_count": 5,
     "metadata": {},
     "output_type": "execute_result"
    }
   ],
   "source": [
    "# if you have multiple gpus, you can specify to which gpu you are referring to\n",
    "device = torch.device(\"cuda:0\")\n",
    "device"
   ]
  },
  {
   "cell_type": "code",
   "execution_count": 6,
   "metadata": {},
   "outputs": [
    {
     "data": {
      "text/plain": [
       "device(type='cuda', index=1)"
      ]
     },
     "execution_count": 6,
     "metadata": {},
     "output_type": "execute_result"
    }
   ],
   "source": [
    "# second gpu in the machine\n",
    "device = torch.device(\"cuda:1\")\n",
    "device"
   ]
  },
  {
   "cell_type": "code",
   "execution_count": 7,
   "metadata": {},
   "outputs": [
    {
     "data": {
      "text/plain": [
       "device(type='cpu', index=0)"
      ]
     },
     "execution_count": 7,
     "metadata": {},
     "output_type": "execute_result"
    }
   ],
   "source": [
    "device = torch.device(\"cpu:0\")\n",
    "device"
   ]
  },
  {
   "cell_type": "markdown",
   "metadata": {},
   "source": [
    "As we can see, we can use the torch.device() to create representations of devices, which is useful for some types of transformations or operations in a tensor."
   ]
  },
  {
   "cell_type": "markdown",
   "metadata": {},
   "source": [
    "### Dtypes\n",
    "\n",
    "Dtypes are a way of defining how data will be stored by the tensor."
   ]
  },
  {
   "cell_type": "code",
   "execution_count": 8,
   "metadata": {},
   "outputs": [
    {
     "data": {
      "text/plain": [
       "torch.float32"
      ]
     },
     "execution_count": 8,
     "metadata": {},
     "output_type": "execute_result"
    }
   ],
   "source": [
    "dtype = torch.float\n",
    "dtype"
   ]
  },
  {
   "cell_type": "code",
   "execution_count": 9,
   "metadata": {},
   "outputs": [
    {
     "data": {
      "text/plain": [
       "torch.float64"
      ]
     },
     "execution_count": 9,
     "metadata": {},
     "output_type": "execute_result"
    }
   ],
   "source": [
    "dtype = torch.float64\n",
    "dtype"
   ]
  },
  {
   "cell_type": "code",
   "execution_count": 10,
   "metadata": {},
   "outputs": [
    {
     "data": {
      "text/plain": [
       "torch.float32"
      ]
     },
     "execution_count": 10,
     "metadata": {},
     "output_type": "execute_result"
    }
   ],
   "source": [
    "dtype = torch.float32\n",
    "dtype"
   ]
  },
  {
   "cell_type": "code",
   "execution_count": 11,
   "metadata": {},
   "outputs": [
    {
     "data": {
      "text/plain": [
       "torch.float16"
      ]
     },
     "execution_count": 11,
     "metadata": {},
     "output_type": "execute_result"
    }
   ],
   "source": [
    "dtype = torch.float16\n",
    "dtype"
   ]
  },
  {
   "cell_type": "code",
   "execution_count": 12,
   "metadata": {},
   "outputs": [
    {
     "data": {
      "text/plain": [
       "torch.int32"
      ]
     },
     "execution_count": 12,
     "metadata": {},
     "output_type": "execute_result"
    }
   ],
   "source": [
    "dtype = torch.int\n",
    "dtype"
   ]
  },
  {
   "cell_type": "code",
   "execution_count": 13,
   "metadata": {},
   "outputs": [
    {
     "data": {
      "text/plain": [
       "torch.int64"
      ]
     },
     "execution_count": 13,
     "metadata": {},
     "output_type": "execute_result"
    }
   ],
   "source": [
    "dtype = torch.int64\n",
    "dtype"
   ]
  },
  {
   "cell_type": "code",
   "execution_count": 14,
   "metadata": {},
   "outputs": [
    {
     "data": {
      "text/plain": [
       "torch.int32"
      ]
     },
     "execution_count": 14,
     "metadata": {},
     "output_type": "execute_result"
    }
   ],
   "source": [
    "dtype = torch.int32\n",
    "dtype"
   ]
  },
  {
   "cell_type": "code",
   "execution_count": 15,
   "metadata": {},
   "outputs": [
    {
     "data": {
      "text/plain": [
       "torch.int16"
      ]
     },
     "execution_count": 15,
     "metadata": {},
     "output_type": "execute_result"
    }
   ],
   "source": [
    "dtype = torch.int16\n",
    "dtype"
   ]
  },
  {
   "cell_type": "code",
   "execution_count": 16,
   "metadata": {},
   "outputs": [
    {
     "data": {
      "text/plain": [
       "torch.bfloat16"
      ]
     },
     "execution_count": 16,
     "metadata": {},
     "output_type": "execute_result"
    }
   ],
   "source": [
    "dtype = torch.bfloat16\n",
    "dtype"
   ]
  },
  {
   "cell_type": "code",
   "execution_count": 17,
   "metadata": {},
   "outputs": [
    {
     "data": {
      "text/plain": [
       "True"
      ]
     },
     "execution_count": 17,
     "metadata": {},
     "output_type": "execute_result"
    }
   ],
   "source": [
    "dtype.is_floating_point"
   ]
  },
  {
   "cell_type": "code",
   "execution_count": 18,
   "metadata": {},
   "outputs": [
    {
     "data": {
      "text/plain": [
       "torch.complex128"
      ]
     },
     "execution_count": 18,
     "metadata": {},
     "output_type": "execute_result"
    }
   ],
   "source": [
    "dtype = torch.complex128\n",
    "dtype"
   ]
  },
  {
   "cell_type": "code",
   "execution_count": 19,
   "metadata": {},
   "outputs": [
    {
     "data": {
      "text/plain": [
       "True"
      ]
     },
     "execution_count": 19,
     "metadata": {},
     "output_type": "execute_result"
    }
   ],
   "source": [
    "dtype.is_complex"
   ]
  },
  {
   "cell_type": "markdown",
   "metadata": {},
   "source": [
    "As we can see, we can obtain various dtypes using these properties. These will be useful later"
   ]
  },
  {
   "cell_type": "markdown",
   "metadata": {},
   "source": [
    "## Moving tensors from and to devices, and changing types\n",
    "\n",
    "This is one of the most common \"operations\" when using NNs for inference. If you want models or tensors to be hardware accelerated, you will have to move them to the GPU, for example."
   ]
  },
  {
   "cell_type": "markdown",
   "metadata": {},
   "source": [
    "### \".to()\" method\n",
    "\n",
    "This method takes a string or a torch.device() object. We will see later that it can also take dtypes, as this method can be used both for changing tensors "
   ]
  },
  {
   "cell_type": "markdown",
   "metadata": {},
   "source": [
    "#### Moving tensors from and to devices"
   ]
  },
  {
   "cell_type": "code",
   "execution_count": 20,
   "metadata": {},
   "outputs": [
    {
     "data": {
      "text/plain": [
       "tensor([[0., 0., 0., 0.],\n",
       "        [0., 0., 0., 0.],\n",
       "        [0., 0., 0., 0.],\n",
       "        [0., 0., 0., 0.],\n",
       "        [0., 0., 0., 0.]])"
      ]
     },
     "execution_count": 20,
     "metadata": {},
     "output_type": "execute_result"
    }
   ],
   "source": [
    "x = torch.zeros((5,4))\n",
    "x"
   ]
  },
  {
   "cell_type": "code",
   "execution_count": 21,
   "metadata": {},
   "outputs": [
    {
     "data": {
      "text/plain": [
       "device(type='cpu')"
      ]
     },
     "execution_count": 21,
     "metadata": {},
     "output_type": "execute_result"
    }
   ],
   "source": [
    "x.device"
   ]
  },
  {
   "cell_type": "code",
   "execution_count": 22,
   "metadata": {},
   "outputs": [
    {
     "data": {
      "text/plain": [
       "device(type='cuda', index=0)"
      ]
     },
     "execution_count": 22,
     "metadata": {},
     "output_type": "execute_result"
    }
   ],
   "source": [
    "x = x.to(\"cuda\")\n",
    "x.device"
   ]
  },
  {
   "cell_type": "code",
   "execution_count": 23,
   "metadata": {},
   "outputs": [
    {
     "data": {
      "text/plain": [
       "device(type='cpu')"
      ]
     },
     "execution_count": 23,
     "metadata": {},
     "output_type": "execute_result"
    }
   ],
   "source": [
    "x = x.to(\"cpu\")\n",
    "x.device"
   ]
  },
  {
   "cell_type": "code",
   "execution_count": 24,
   "metadata": {},
   "outputs": [
    {
     "data": {
      "text/plain": [
       "device(type='cuda', index=0)"
      ]
     },
     "execution_count": 24,
     "metadata": {},
     "output_type": "execute_result"
    }
   ],
   "source": [
    "x = x.to(\"cuda:0\")\n",
    "x.device"
   ]
  },
  {
   "cell_type": "code",
   "execution_count": 25,
   "metadata": {},
   "outputs": [
    {
     "data": {
      "text/plain": [
       "device(type='cpu')"
      ]
     },
     "execution_count": 25,
     "metadata": {},
     "output_type": "execute_result"
    }
   ],
   "source": [
    "device = torch.device(\"cpu\")\n",
    "device"
   ]
  },
  {
   "cell_type": "code",
   "execution_count": 26,
   "metadata": {},
   "outputs": [
    {
     "name": "stdout",
     "output_type": "stream",
     "text": [
      "cuda:0\n"
     ]
    },
    {
     "data": {
      "text/plain": [
       "device(type='cpu')"
      ]
     },
     "execution_count": 26,
     "metadata": {},
     "output_type": "execute_result"
    }
   ],
   "source": [
    "print(x.device)\n",
    "x = x.to(device)\n",
    "x.device"
   ]
  },
  {
   "cell_type": "code",
   "execution_count": 27,
   "metadata": {},
   "outputs": [
    {
     "data": {
      "text/plain": [
       "device(type='cuda', index=0)"
      ]
     },
     "execution_count": 27,
     "metadata": {},
     "output_type": "execute_result"
    }
   ],
   "source": [
    "device = torch.device(\"cuda:0\")\n",
    "device"
   ]
  },
  {
   "cell_type": "code",
   "execution_count": 28,
   "metadata": {},
   "outputs": [
    {
     "name": "stdout",
     "output_type": "stream",
     "text": [
      "cpu\n"
     ]
    },
    {
     "data": {
      "text/plain": [
       "device(type='cuda', index=0)"
      ]
     },
     "execution_count": 28,
     "metadata": {},
     "output_type": "execute_result"
    }
   ],
   "source": [
    "print(x.device)\n",
    "x = x.to(device)\n",
    "x.device"
   ]
  },
  {
   "cell_type": "markdown",
   "metadata": {},
   "source": [
    "#### Changing tensors dtypes\n",
    "\n",
    "Now let's see how to use the `.to()` method to transform tensors into different dtypes, for different precisions."
   ]
  },
  {
   "cell_type": "code",
   "execution_count": 29,
   "metadata": {},
   "outputs": [
    {
     "data": {
      "text/plain": [
       "tensor([[0.8823, 0.9150, 0.3829, 0.9593],\n",
       "        [0.3904, 0.6009, 0.2566, 0.7936],\n",
       "        [0.9408, 0.1332, 0.9346, 0.5936],\n",
       "        [0.8694, 0.5677, 0.7411, 0.4294],\n",
       "        [0.8854, 0.5739, 0.2666, 0.6274]])"
      ]
     },
     "execution_count": 29,
     "metadata": {},
     "output_type": "execute_result"
    }
   ],
   "source": [
    "torch.manual_seed(42)\n",
    "x = torch.rand((5,4))\n",
    "x"
   ]
  },
  {
   "cell_type": "code",
   "execution_count": 30,
   "metadata": {},
   "outputs": [
    {
     "data": {
      "text/plain": [
       "0.8822692632675171"
      ]
     },
     "execution_count": 30,
     "metadata": {},
     "output_type": "execute_result"
    }
   ],
   "source": [
    "x[0][0].item()"
   ]
  },
  {
   "cell_type": "code",
   "execution_count": 31,
   "metadata": {},
   "outputs": [
    {
     "data": {
      "text/plain": [
       "torch.float32"
      ]
     },
     "execution_count": 31,
     "metadata": {},
     "output_type": "execute_result"
    }
   ],
   "source": [
    "x.dtype"
   ]
  },
  {
   "cell_type": "code",
   "execution_count": 32,
   "metadata": {},
   "outputs": [
    {
     "data": {
      "text/plain": [
       "0.8822692632675171"
      ]
     },
     "execution_count": 32,
     "metadata": {},
     "output_type": "execute_result"
    }
   ],
   "source": [
    "dtype = torch.float64\n",
    "x = x.to(dtype)\n",
    "x[0][0].item()"
   ]
  },
  {
   "cell_type": "code",
   "execution_count": 33,
   "metadata": {},
   "outputs": [
    {
     "data": {
      "text/plain": [
       "0.88232421875"
      ]
     },
     "execution_count": 33,
     "metadata": {},
     "output_type": "execute_result"
    }
   ],
   "source": [
    "dtype = torch.float16\n",
    "x = x.to(dtype)\n",
    "x[0][0].item()"
   ]
  },
  {
   "cell_type": "code",
   "execution_count": 34,
   "metadata": {},
   "outputs": [
    {
     "data": {
      "text/plain": [
       "tensor([[ 1.9269e+11,  1.4873e+11,  9.0072e+10, -2.1055e+11,  6.7842e+10,\n",
       "         -1.2345e+11, -4.3067e+09, -1.6047e+11, -7.5214e+10,  1.6487e+11],\n",
       "        [-3.9248e+10, -1.4036e+11, -7.2788e+10, -5.5943e+10, -7.6884e+10,\n",
       "          7.6245e+10,  1.6423e+11, -1.5960e+10, -4.9740e+10,  4.3959e+10],\n",
       "        [-7.5813e+10,  1.0783e+11,  8.0080e+10,  1.6806e+11,  1.2791e+11,\n",
       "          1.2964e+11,  6.1047e+10,  1.3347e+11, -2.3162e+10,  4.1759e+09],\n",
       "        [-2.5158e+10,  8.5986e+10, -1.3847e+11, -8.7124e+10,  7.8024e+09,\n",
       "          5.2581e+10, -4.8799e+10,  1.1914e+11, -8.1401e+10, -7.3599e+10],\n",
       "        [-8.3712e+10, -9.2239e+10, -6.3477e+09,  6.7561e+10, -9.7807e+09,\n",
       "          1.8446e+11, -1.1845e+11,  1.3835e+11, -1.2024e+11,  7.0781e+10]])"
      ]
     },
     "execution_count": 34,
     "metadata": {},
     "output_type": "execute_result"
    }
   ],
   "source": [
    "torch.manual_seed(42)\n",
    "x = torch.normal(\n",
    "    size=(5,10),\n",
    "    mean=10e-1000,\n",
    "    std=10e10\n",
    ")\n",
    "x"
   ]
  },
  {
   "cell_type": "code",
   "execution_count": 35,
   "metadata": {},
   "outputs": [
    {
     "data": {
      "text/plain": [
       "192691519488.0"
      ]
     },
     "execution_count": 35,
     "metadata": {},
     "output_type": "execute_result"
    }
   ],
   "source": [
    "torch.manual_seed(42)\n",
    "x = torch.normal(\n",
    "    size=(5,10),\n",
    "    mean=10e-1000,\n",
    "    std=10e10\n",
    ")\n",
    "x[0][0].item()"
   ]
  },
  {
   "cell_type": "code",
   "execution_count": 36,
   "metadata": {},
   "outputs": [
    {
     "name": "stdout",
     "output_type": "stream",
     "text": [
      "192691519488.0\n"
     ]
    },
    {
     "data": {
      "text/plain": [
       "192691519488"
      ]
     },
     "execution_count": 36,
     "metadata": {},
     "output_type": "execute_result"
    }
   ],
   "source": [
    "torch.manual_seed(42)\n",
    "x = torch.normal(\n",
    "    size=(5,10),\n",
    "    mean=10e-1000,\n",
    "    std=10e10\n",
    ")\n",
    "print(x[0][0].item())\n",
    "dtype = torch.int64\n",
    "x = x.to(dtype)\n",
    "x[0][0].item()"
   ]
  },
  {
   "cell_type": "code",
   "execution_count": 37,
   "metadata": {},
   "outputs": [
    {
     "name": "stdout",
     "output_type": "stream",
     "text": [
      "192691519488.0\n"
     ]
    },
    {
     "data": {
      "text/plain": [
       "-2147483648"
      ]
     },
     "execution_count": 37,
     "metadata": {},
     "output_type": "execute_result"
    }
   ],
   "source": [
    "torch.manual_seed(42)\n",
    "x = torch.normal(\n",
    "    size=(5,10),\n",
    "    mean=10e-1000,\n",
    "    std=10e10\n",
    ")\n",
    "print(x[0][0].item())\n",
    "dtype = torch.int32\n",
    "x = x.to(dtype)\n",
    "x[0][0].item()"
   ]
  },
  {
   "cell_type": "code",
   "execution_count": 38,
   "metadata": {},
   "outputs": [
    {
     "name": "stdout",
     "output_type": "stream",
     "text": [
      "192691519488.0\n"
     ]
    },
    {
     "data": {
      "text/plain": [
       "0"
      ]
     },
     "execution_count": 38,
     "metadata": {},
     "output_type": "execute_result"
    }
   ],
   "source": [
    "torch.manual_seed(42)\n",
    "x = torch.normal(\n",
    "    size=(5,10),\n",
    "    mean=10e-1000,\n",
    "    std=10e10\n",
    ")\n",
    "print(x[0][0].item())\n",
    "dtype = torch.int16\n",
    "x = x.to(dtype)\n",
    "x[0][0].item()"
   ]
  },
  {
   "cell_type": "markdown",
   "metadata": {},
   "source": [
    "### Shorthands for moving to devices\n",
    "\n",
    "Using the `.to()` method is one of the methods to move a tensor to another device, but another way to do this is to use the `.cpu()` and `.cuda()` methods"
   ]
  },
  {
   "cell_type": "code",
   "execution_count": 39,
   "metadata": {},
   "outputs": [
    {
     "data": {
      "text/plain": [
       "device(type='cpu')"
      ]
     },
     "execution_count": 39,
     "metadata": {},
     "output_type": "execute_result"
    }
   ],
   "source": [
    "x = torch.zeros((5,4))\n",
    "x.device"
   ]
  },
  {
   "cell_type": "code",
   "execution_count": 40,
   "metadata": {},
   "outputs": [
    {
     "data": {
      "text/plain": [
       "device(type='cuda', index=0)"
      ]
     },
     "execution_count": 40,
     "metadata": {},
     "output_type": "execute_result"
    }
   ],
   "source": [
    "x = x.cuda()\n",
    "x.device"
   ]
  },
  {
   "cell_type": "code",
   "execution_count": 41,
   "metadata": {},
   "outputs": [
    {
     "data": {
      "text/plain": [
       "device(type='cpu')"
      ]
     },
     "execution_count": 41,
     "metadata": {},
     "output_type": "execute_result"
    }
   ],
   "source": [
    "x = x.cpu()\n",
    "x.device"
   ]
  },
  {
   "cell_type": "markdown",
   "metadata": {},
   "source": [
    "## Tensor Shapes\n",
    "\n",
    "In a lot of situations, changing the shapes of tensors is necessary to perform certain transformations."
   ]
  },
  {
   "cell_type": "markdown",
   "metadata": {},
   "source": [
    "### Adding dimensions (squeezing or unsqueezing) tensors\n",
    "\n",
    "Squeezing or unsqueezing allows you to add a new dimension to a tensor, or remove dimensions which have shape 1.\n",
    "\n",
    "Use unsqueeze to add a new dimension. You can use `.squeeze()` to remove all of the dimensions with shape=1, or pass a specific dimension as a parameter to define which dimension should be removed"
   ]
  },
  {
   "cell_type": "code",
   "execution_count": 42,
   "metadata": {},
   "outputs": [
    {
     "name": "stdout",
     "output_type": "stream",
     "text": [
      "torch.Size([5])\n"
     ]
    },
    {
     "data": {
      "text/plain": [
       "tensor([0.8823, 0.9150, 0.3829, 0.9593, 0.3904])"
      ]
     },
     "execution_count": 42,
     "metadata": {},
     "output_type": "execute_result"
    }
   ],
   "source": [
    "torch.manual_seed(42)\n",
    "x = torch.rand((5,))\n",
    "print(x.shape)\n",
    "x"
   ]
  },
  {
   "cell_type": "code",
   "execution_count": 43,
   "metadata": {},
   "outputs": [
    {
     "name": "stdout",
     "output_type": "stream",
     "text": [
      "torch.Size([1, 5])\n"
     ]
    },
    {
     "data": {
      "text/plain": [
       "tensor([[0.8823, 0.9150, 0.3829, 0.9593, 0.3904]])"
      ]
     },
     "execution_count": 43,
     "metadata": {},
     "output_type": "execute_result"
    }
   ],
   "source": [
    "x = x.unsqueeze(0)\n",
    "print(x.shape)\n",
    "x"
   ]
  },
  {
   "cell_type": "code",
   "execution_count": 44,
   "metadata": {},
   "outputs": [
    {
     "name": "stdout",
     "output_type": "stream",
     "text": [
      "torch.Size([5])\n"
     ]
    },
    {
     "data": {
      "text/plain": [
       "tensor([0.8823, 0.9150, 0.3829, 0.9593, 0.3904])"
      ]
     },
     "execution_count": 44,
     "metadata": {},
     "output_type": "execute_result"
    }
   ],
   "source": [
    "x = x.squeeze()\n",
    "print(x.shape)\n",
    "x"
   ]
  },
  {
   "cell_type": "code",
   "execution_count": 45,
   "metadata": {},
   "outputs": [
    {
     "name": "stdout",
     "output_type": "stream",
     "text": [
      "torch.Size([5, 1])\n"
     ]
    },
    {
     "data": {
      "text/plain": [
       "tensor([[0.8823],\n",
       "        [0.9150],\n",
       "        [0.3829],\n",
       "        [0.9593],\n",
       "        [0.3904]])"
      ]
     },
     "execution_count": 45,
     "metadata": {},
     "output_type": "execute_result"
    }
   ],
   "source": [
    "x = x.unsqueeze(1)\n",
    "print(x.shape)\n",
    "x"
   ]
  },
  {
   "cell_type": "code",
   "execution_count": 46,
   "metadata": {},
   "outputs": [
    {
     "name": "stdout",
     "output_type": "stream",
     "text": [
      "torch.Size([1, 5, 1])\n"
     ]
    },
    {
     "data": {
      "text/plain": [
       "tensor([[[0.8823],\n",
       "         [0.9150],\n",
       "         [0.3829],\n",
       "         [0.9593],\n",
       "         [0.3904]]])"
      ]
     },
     "execution_count": 46,
     "metadata": {},
     "output_type": "execute_result"
    }
   ],
   "source": [
    "x = x.unsqueeze(0)\n",
    "print(x.shape)\n",
    "x"
   ]
  },
  {
   "cell_type": "code",
   "execution_count": 47,
   "metadata": {},
   "outputs": [
    {
     "name": "stdout",
     "output_type": "stream",
     "text": [
      "torch.Size([5, 1])\n"
     ]
    },
    {
     "data": {
      "text/plain": [
       "tensor([[0.8823],\n",
       "        [0.9150],\n",
       "        [0.3829],\n",
       "        [0.9593],\n",
       "        [0.3904]])"
      ]
     },
     "execution_count": 47,
     "metadata": {},
     "output_type": "execute_result"
    }
   ],
   "source": [
    "x = x.squeeze(0)\n",
    "print(x.shape)\n",
    "x"
   ]
  },
  {
   "cell_type": "code",
   "execution_count": 48,
   "metadata": {},
   "outputs": [
    {
     "name": "stdout",
     "output_type": "stream",
     "text": [
      "torch.Size([1, 5, 1])\n"
     ]
    },
    {
     "data": {
      "text/plain": [
       "tensor([[[0.8823],\n",
       "         [0.9150],\n",
       "         [0.3829],\n",
       "         [0.9593],\n",
       "         [0.3904]]])"
      ]
     },
     "execution_count": 48,
     "metadata": {},
     "output_type": "execute_result"
    }
   ],
   "source": [
    "x = x.unsqueeze(0)\n",
    "print(x.shape)\n",
    "x"
   ]
  },
  {
   "cell_type": "code",
   "execution_count": 49,
   "metadata": {},
   "outputs": [
    {
     "name": "stdout",
     "output_type": "stream",
     "text": [
      "torch.Size([5])\n"
     ]
    },
    {
     "data": {
      "text/plain": [
       "tensor([0.8823, 0.9150, 0.3829, 0.9593, 0.3904])"
      ]
     },
     "execution_count": 49,
     "metadata": {},
     "output_type": "execute_result"
    }
   ],
   "source": [
    "x = x.squeeze()\n",
    "print(x.shape)\n",
    "x"
   ]
  },
  {
   "cell_type": "markdown",
   "metadata": {},
   "source": [
    "### Tensor transpose"
   ]
  },
  {
   "cell_type": "code",
   "execution_count": 50,
   "metadata": {},
   "outputs": [
    {
     "name": "stdout",
     "output_type": "stream",
     "text": [
      "torch.Size([2, 3, 4])\n"
     ]
    },
    {
     "data": {
      "text/plain": [
       "tensor([[[0.8823, 0.9150, 0.3829, 0.9593],\n",
       "         [0.3904, 0.6009, 0.2566, 0.7936],\n",
       "         [0.9408, 0.1332, 0.9346, 0.5936]],\n",
       "\n",
       "        [[0.8694, 0.5677, 0.7411, 0.4294],\n",
       "         [0.8854, 0.5739, 0.2666, 0.6274],\n",
       "         [0.2696, 0.4414, 0.2969, 0.8317]]])"
      ]
     },
     "execution_count": 50,
     "metadata": {},
     "output_type": "execute_result"
    }
   ],
   "source": [
    "torch.manual_seed(42)\n",
    "x = torch.rand((2, 3, 4))\n",
    "print(x.shape)\n",
    "x"
   ]
  },
  {
   "cell_type": "code",
   "execution_count": 51,
   "metadata": {},
   "outputs": [
    {
     "name": "stdout",
     "output_type": "stream",
     "text": [
      "torch.Size([4, 3, 2])\n"
     ]
    },
    {
     "data": {
      "text/plain": [
       "tensor([[[0.8823, 0.8694],\n",
       "         [0.3904, 0.8854],\n",
       "         [0.9408, 0.2696]],\n",
       "\n",
       "        [[0.9150, 0.5677],\n",
       "         [0.6009, 0.5739],\n",
       "         [0.1332, 0.4414]],\n",
       "\n",
       "        [[0.3829, 0.7411],\n",
       "         [0.2566, 0.2666],\n",
       "         [0.9346, 0.2969]],\n",
       "\n",
       "        [[0.9593, 0.4294],\n",
       "         [0.7936, 0.6274],\n",
       "         [0.5936, 0.8317]]])"
      ]
     },
     "execution_count": 51,
     "metadata": {},
     "output_type": "execute_result"
    }
   ],
   "source": [
    "x = x.transpose(2, 0)\n",
    "print(x.shape)\n",
    "x"
   ]
  },
  {
   "cell_type": "markdown",
   "metadata": {},
   "source": [
    "Using what we learned from the tensor math notebook:"
   ]
  },
  {
   "cell_type": "code",
   "execution_count": 52,
   "metadata": {},
   "outputs": [
    {
     "name": "stdout",
     "output_type": "stream",
     "text": [
      "torch.Size([4, 3, 2])\n"
     ]
    },
    {
     "data": {
      "text/plain": [
       "tensor([[0.8823, 0.9150, 0.3829],\n",
       "        [0.9593, 0.3904, 0.6009]])"
      ]
     },
     "execution_count": 52,
     "metadata": {},
     "output_type": "execute_result"
    }
   ],
   "source": [
    "torch.manual_seed(42)\n",
    "a = torch.rand((2, 3))\n",
    "print(x.shape)\n",
    "a"
   ]
  },
  {
   "cell_type": "code",
   "execution_count": 53,
   "metadata": {},
   "outputs": [
    {
     "name": "stdout",
     "output_type": "stream",
     "text": [
      "torch.Size([4, 3, 2])\n"
     ]
    },
    {
     "data": {
      "text/plain": [
       "tensor([[0.2566, 0.7936, 0.9408],\n",
       "        [0.1332, 0.9346, 0.5936]])"
      ]
     },
     "execution_count": 53,
     "metadata": {},
     "output_type": "execute_result"
    }
   ],
   "source": [
    "b = torch.rand((2, 3))\n",
    "print(x.shape)\n",
    "b"
   ]
  },
  {
   "cell_type": "code",
   "execution_count": 54,
   "metadata": {},
   "outputs": [
    {
     "ename": "RuntimeError",
     "evalue": "mat1 and mat2 shapes cannot be multiplied (2x3 and 2x3)",
     "output_type": "error",
     "traceback": [
      "\u001b[0;31m---------------------------------------------------------------------------\u001b[0m",
      "\u001b[0;31mRuntimeError\u001b[0m                              Traceback (most recent call last)",
      "\u001b[0;32m<ipython-input-54-88de868f0fd7>\u001b[0m in \u001b[0;36m<cell line: 1>\u001b[0;34m()\u001b[0m\n\u001b[0;32m----> 1\u001b[0;31m \u001b[0ma\u001b[0m \u001b[0;34m@\u001b[0m \u001b[0mb\u001b[0m\u001b[0;34m\u001b[0m\u001b[0;34m\u001b[0m\u001b[0m\n\u001b[0m",
      "\u001b[0;31mRuntimeError\u001b[0m: mat1 and mat2 shapes cannot be multiplied (2x3 and 2x3)"
     ]
    }
   ],
   "source": [
    "a @ b"
   ]
  },
  {
   "cell_type": "code",
   "execution_count": 55,
   "metadata": {},
   "outputs": [
    {
     "data": {
      "text/plain": [
       "tensor([[1.3127, 1.1999],\n",
       "        [1.1213, 0.8494]])"
      ]
     },
     "execution_count": 55,
     "metadata": {},
     "output_type": "execute_result"
    }
   ],
   "source": [
    "a @ b.transpose(0, 1)"
   ]
  },
  {
   "cell_type": "markdown",
   "metadata": {},
   "source": [
    "As you can see, we can use the transpose of matrices to avoid a lot of erros. A lot of layers actually involve tensor dot products."
   ]
  },
  {
   "cell_type": "markdown",
   "metadata": {},
   "source": [
    "### Tensor Reshaping and Tensor Views\n",
    "\n",
    "You may also want to keep the original data, but view it in a different shape, or reshape the tensor, creating a new copy. These operations are important in order to avoid errors when building neural networks.\n",
    "\n",
    "PyTorch provides two options for reshaping tensors: `torch.reshape` and `torch.view`. To simplify when to use each, follow this:\n",
    " - If you just want to change the shape of a tensor, use `torch.reshape`. \n",
    " - If you also want to reduce memory usage and ensure that the resulting tensor shares the same data as the original tensor, use `torch.view`.\n",
    "\n",
    "For a deeper explanation, see both [the difference between reshape and view](https://stackoverflow.com/questions/49643225/whats-the-difference-between-reshape-and-view-in-pytorch/54507446#54507446) and [what contiguous arrays are](https://stackoverflow.com/questions/26998223/what-is-the-difference-between-contiguous-and-non-contiguous-arrays/26999092#26999092)"
   ]
  },
  {
   "cell_type": "code",
   "execution_count": 56,
   "metadata": {},
   "outputs": [
    {
     "data": {
      "text/plain": [
       "tensor([[0., 0.],\n",
       "        [0., 0.],\n",
       "        [0., 0.]])"
      ]
     },
     "execution_count": 56,
     "metadata": {},
     "output_type": "execute_result"
    }
   ],
   "source": [
    "x = torch.zeros(3, 2)\n",
    "x"
   ]
  },
  {
   "cell_type": "code",
   "execution_count": 57,
   "metadata": {},
   "outputs": [],
   "source": [
    "a = x.reshape(6)"
   ]
  },
  {
   "cell_type": "code",
   "execution_count": 58,
   "metadata": {},
   "outputs": [],
   "source": [
    "b = x.view(6)"
   ]
  },
  {
   "cell_type": "code",
   "execution_count": 59,
   "metadata": {},
   "outputs": [
    {
     "name": "stdout",
     "output_type": "stream",
     "text": [
      "tensor([0., 0., 0., 0., 0., 0.])\n",
      "tensor([0., 0., 0., 0., 0., 0.])\n",
      "tensor([[0., 0.],\n",
      "        [0., 0.],\n",
      "        [0., 0.]])\n"
     ]
    }
   ],
   "source": [
    "print(a)\n",
    "print(b)\n",
    "print(x)"
   ]
  },
  {
   "cell_type": "code",
   "execution_count": 60,
   "metadata": {},
   "outputs": [
    {
     "name": "stdout",
     "output_type": "stream",
     "text": [
      "tensor([1., 1., 1., 1., 1., 1.])\n",
      "tensor([1., 1., 1., 1., 1., 1.])\n",
      "tensor([[1., 1.],\n",
      "        [1., 1.],\n",
      "        [1., 1.]])\n",
      "\n",
      "tensor([2., 2., 2., 2., 2., 2.])\n",
      "tensor([2., 2., 2., 2., 2., 2.])\n",
      "tensor([[2., 2.],\n",
      "        [2., 2.],\n",
      "        [2., 2.]])\n",
      "\n",
      "tensor([3., 3., 3., 3., 3., 3.])\n",
      "tensor([3., 3., 3., 3., 3., 3.])\n",
      "tensor([[3., 3.],\n",
      "        [3., 3.],\n",
      "        [3., 3.]])\n"
     ]
    }
   ],
   "source": [
    "# all of them share the same data, using a copy in memory in the same location, which means that any change in the values will also interfere with the others tensors.\n",
    "x.fill_(1)\n",
    "print(a)\n",
    "print(b)\n",
    "print(x)\n",
    "print()\n",
    "\n",
    "a.fill_(2)\n",
    "print(a)\n",
    "print(b)\n",
    "print(x)\n",
    "print()\n",
    "\n",
    "b.fill_(3)\n",
    "print(a)\n",
    "print(b)\n",
    "print(x)"
   ]
  },
  {
   "cell_type": "code",
   "execution_count": 61,
   "metadata": {},
   "outputs": [
    {
     "name": "stdout",
     "output_type": "stream",
     "text": [
      "tensor([3., 3., 3., 3., 3., 3.])\n",
      "tensor([3., 3., 3., 3., 3., 3.])\n",
      "tensor([[3., 3.],\n",
      "        [3., 3.],\n",
      "        [3., 3.]])\n",
      "\n",
      "tensor([3., 3., 3., 3., 3., 3.])\n",
      "tensor([1., 1., 1., 1., 1., 1.])\n",
      "tensor([[1., 1.],\n",
      "        [1., 1.],\n",
      "        [1., 1.]])\n",
      "\n"
     ]
    },
    {
     "ename": "RuntimeError",
     "evalue": "view size is not compatible with input tensor's size and stride (at least one dimension spans across two contiguous subspaces). Use .reshape(...) instead.",
     "output_type": "error",
     "traceback": [
      "\u001b[0;31m---------------------------------------------------------------------------\u001b[0m",
      "\u001b[0;31mRuntimeError\u001b[0m                              Traceback (most recent call last)",
      "\u001b[0;32m<ipython-input-61-71d19e144788>\u001b[0m in \u001b[0;36m<cell line: 20>\u001b[0;34m()\u001b[0m\n\u001b[1;32m     18\u001b[0m \u001b[0;34m\u001b[0m\u001b[0m\n\u001b[1;32m     19\u001b[0m \u001b[0;31m# the .view() only works only with contiguous tensors, and throws and error when you try to use it in a non-contigous tensor\u001b[0m\u001b[0;34m\u001b[0m\u001b[0;34m\u001b[0m\u001b[0m\n\u001b[0;32m---> 20\u001b[0;31m \u001b[0mb\u001b[0m \u001b[0;34m=\u001b[0m \u001b[0mx\u001b[0m\u001b[0;34m.\u001b[0m\u001b[0mt\u001b[0m\u001b[0;34m(\u001b[0m\u001b[0;34m)\u001b[0m\u001b[0;34m.\u001b[0m\u001b[0mview\u001b[0m\u001b[0;34m(\u001b[0m\u001b[0;36m6\u001b[0m\u001b[0;34m)\u001b[0m\u001b[0;34m\u001b[0m\u001b[0;34m\u001b[0m\u001b[0m\n\u001b[0m",
      "\u001b[0;31mRuntimeError\u001b[0m: view size is not compatible with input tensor's size and stride (at least one dimension spans across two contiguous subspaces). Use .reshape(...) instead."
     ]
    }
   ],
   "source": [
    "# .t() is a shorthand for transposing a matrice.\n",
    "# transposing makes the tensor non-contiguous.\n",
    "# .reshape() works with both contiguous tensors and non-contigous tensors\n",
    "a = x.t().reshape(6)\n",
    "b = x.view(6)\n",
    "\n",
    "print(a)\n",
    "print(b)\n",
    "print(x)\n",
    "print()\n",
    "\n",
    "# for no\n",
    "x.fill_(1)\n",
    "print(a)\n",
    "print(b)\n",
    "print(x)\n",
    "print()\n",
    "\n",
    "# the .view() only works only with contiguous tensors, and throws and error when you try to use it in a non-contigous tensor\n",
    "b = x.t().view(6)"
   ]
  },
  {
   "cell_type": "markdown",
   "metadata": {},
   "source": [
    "### Torch.stack\n",
    "\n",
    "We may also want to stack tensors together sometimes. For example, if you have multiple 2D tensors and want to create a 3D tensor out of it, one of the ways to do this is using the `torch.stack()`."
   ]
  },
  {
   "cell_type": "code",
   "execution_count": 62,
   "metadata": {},
   "outputs": [
    {
     "data": {
      "text/plain": [
       "(tensor([[[132., 167., 181.,  ..., 208., 146., 189.],\n",
       "          [142.,  79., 207.,  ..., 189.,  61., 169.],\n",
       "          [250., 179., 158.,  ...,  46.,  41., 108.],\n",
       "          ...,\n",
       "          [145.,  74.,  10.,  ...,  75., 118.,   0.],\n",
       "          [ 48., 126.,  28.,  ...,  50., 122., 179.],\n",
       "          [244.,  82., 122.,  ..., 175.,  74.,  58.]],\n",
       " \n",
       "         [[  1.,  69., 112.,  ..., 219., 227.,  96.],\n",
       "          [111.,  88., 149.,  ..., 213., 221.,  47.],\n",
       "          [242.,  95., 145.,  ..., 117.,  38.,  16.],\n",
       "          ...,\n",
       "          [141., 146.,  10.,  ..., 170.,  91.,  20.],\n",
       "          [ 15., 136., 244.,  ..., 156.,  33.,  68.],\n",
       "          [105., 252., 134.,  ...,  11., 164.,  39.]],\n",
       " \n",
       "         [[229., 102., 249.,  ..., 203.,  50.,  74.],\n",
       "          [  3., 142., 120.,  ..., 112.,  13.,  63.],\n",
       "          [163., 222.,  44.,  ..., 204.,  90., 120.],\n",
       "          ...,\n",
       "          [113., 160., 164.,  ...,  55.,  45., 109.],\n",
       "          [179.,  36.,  30.,  ...,  45.,  69., 100.],\n",
       "          [227., 163.,  65.,  ..., 165., 153., 204.]]]),\n",
       " torch.Size([3, 28, 28]))"
      ]
     },
     "execution_count": 62,
     "metadata": {},
     "output_type": "execute_result"
    }
   ],
   "source": [
    "torch.manual_seed(42)\n",
    "x = torch.randint(\n",
    "    low=0,\n",
    "    high=255,\n",
    "    size=(3, 28, 28) # MNIST dimensions, 3 channels and 28x28. (C, H, W)\n",
    ")\n",
    "x = x.to(torch.float)\n",
    "x, x.shape"
   ]
  },
  {
   "cell_type": "code",
   "execution_count": 63,
   "metadata": {},
   "outputs": [
    {
     "data": {
      "text/plain": [
       "(tensor([[[[132., 167., 181.,  ..., 208., 146., 189.],\n",
       "           [142.,  79., 207.,  ..., 189.,  61., 169.],\n",
       "           [250., 179., 158.,  ...,  46.,  41., 108.],\n",
       "           ...,\n",
       "           [145.,  74.,  10.,  ...,  75., 118.,   0.],\n",
       "           [ 48., 126.,  28.,  ...,  50., 122., 179.],\n",
       "           [244.,  82., 122.,  ..., 175.,  74.,  58.]],\n",
       " \n",
       "          [[  1.,  69., 112.,  ..., 219., 227.,  96.],\n",
       "           [111.,  88., 149.,  ..., 213., 221.,  47.],\n",
       "           [242.,  95., 145.,  ..., 117.,  38.,  16.],\n",
       "           ...,\n",
       "           [141., 146.,  10.,  ..., 170.,  91.,  20.],\n",
       "           [ 15., 136., 244.,  ..., 156.,  33.,  68.],\n",
       "           [105., 252., 134.,  ...,  11., 164.,  39.]],\n",
       " \n",
       "          [[229., 102., 249.,  ..., 203.,  50.,  74.],\n",
       "           [  3., 142., 120.,  ..., 112.,  13.,  63.],\n",
       "           [163., 222.,  44.,  ..., 204.,  90., 120.],\n",
       "           ...,\n",
       "           [113., 160., 164.,  ...,  55.,  45., 109.],\n",
       "           [179.,  36.,  30.,  ...,  45.,  69., 100.],\n",
       "           [227., 163.,  65.,  ..., 165., 153., 204.]]],\n",
       " \n",
       " \n",
       "         [[[132., 167., 181.,  ..., 208., 146., 189.],\n",
       "           [142.,  79., 207.,  ..., 189.,  61., 169.],\n",
       "           [250., 179., 158.,  ...,  46.,  41., 108.],\n",
       "           ...,\n",
       "           [145.,  74.,  10.,  ...,  75., 118.,   0.],\n",
       "           [ 48., 126.,  28.,  ...,  50., 122., 179.],\n",
       "           [244.,  82., 122.,  ..., 175.,  74.,  58.]],\n",
       " \n",
       "          [[  1.,  69., 112.,  ..., 219., 227.,  96.],\n",
       "           [111.,  88., 149.,  ..., 213., 221.,  47.],\n",
       "           [242.,  95., 145.,  ..., 117.,  38.,  16.],\n",
       "           ...,\n",
       "           [141., 146.,  10.,  ..., 170.,  91.,  20.],\n",
       "           [ 15., 136., 244.,  ..., 156.,  33.,  68.],\n",
       "           [105., 252., 134.,  ...,  11., 164.,  39.]],\n",
       " \n",
       "          [[229., 102., 249.,  ..., 203.,  50.,  74.],\n",
       "           [  3., 142., 120.,  ..., 112.,  13.,  63.],\n",
       "           [163., 222.,  44.,  ..., 204.,  90., 120.],\n",
       "           ...,\n",
       "           [113., 160., 164.,  ...,  55.,  45., 109.],\n",
       "           [179.,  36.,  30.,  ...,  45.,  69., 100.],\n",
       "           [227., 163.,  65.,  ..., 165., 153., 204.]]],\n",
       " \n",
       " \n",
       "         [[[132., 167., 181.,  ..., 208., 146., 189.],\n",
       "           [142.,  79., 207.,  ..., 189.,  61., 169.],\n",
       "           [250., 179., 158.,  ...,  46.,  41., 108.],\n",
       "           ...,\n",
       "           [145.,  74.,  10.,  ...,  75., 118.,   0.],\n",
       "           [ 48., 126.,  28.,  ...,  50., 122., 179.],\n",
       "           [244.,  82., 122.,  ..., 175.,  74.,  58.]],\n",
       " \n",
       "          [[  1.,  69., 112.,  ..., 219., 227.,  96.],\n",
       "           [111.,  88., 149.,  ..., 213., 221.,  47.],\n",
       "           [242.,  95., 145.,  ..., 117.,  38.,  16.],\n",
       "           ...,\n",
       "           [141., 146.,  10.,  ..., 170.,  91.,  20.],\n",
       "           [ 15., 136., 244.,  ..., 156.,  33.,  68.],\n",
       "           [105., 252., 134.,  ...,  11., 164.,  39.]],\n",
       " \n",
       "          [[229., 102., 249.,  ..., 203.,  50.,  74.],\n",
       "           [  3., 142., 120.,  ..., 112.,  13.,  63.],\n",
       "           [163., 222.,  44.,  ..., 204.,  90., 120.],\n",
       "           ...,\n",
       "           [113., 160., 164.,  ...,  55.,  45., 109.],\n",
       "           [179.,  36.,  30.,  ...,  45.,  69., 100.],\n",
       "           [227., 163.,  65.,  ..., 165., 153., 204.]]],\n",
       " \n",
       " \n",
       "         [[[132., 167., 181.,  ..., 208., 146., 189.],\n",
       "           [142.,  79., 207.,  ..., 189.,  61., 169.],\n",
       "           [250., 179., 158.,  ...,  46.,  41., 108.],\n",
       "           ...,\n",
       "           [145.,  74.,  10.,  ...,  75., 118.,   0.],\n",
       "           [ 48., 126.,  28.,  ...,  50., 122., 179.],\n",
       "           [244.,  82., 122.,  ..., 175.,  74.,  58.]],\n",
       " \n",
       "          [[  1.,  69., 112.,  ..., 219., 227.,  96.],\n",
       "           [111.,  88., 149.,  ..., 213., 221.,  47.],\n",
       "           [242.,  95., 145.,  ..., 117.,  38.,  16.],\n",
       "           ...,\n",
       "           [141., 146.,  10.,  ..., 170.,  91.,  20.],\n",
       "           [ 15., 136., 244.,  ..., 156.,  33.,  68.],\n",
       "           [105., 252., 134.,  ...,  11., 164.,  39.]],\n",
       " \n",
       "          [[229., 102., 249.,  ..., 203.,  50.,  74.],\n",
       "           [  3., 142., 120.,  ..., 112.,  13.,  63.],\n",
       "           [163., 222.,  44.,  ..., 204.,  90., 120.],\n",
       "           ...,\n",
       "           [113., 160., 164.,  ...,  55.,  45., 109.],\n",
       "           [179.,  36.,  30.,  ...,  45.,  69., 100.],\n",
       "           [227., 163.,  65.,  ..., 165., 153., 204.]]]]),\n",
       " torch.Size([4, 3, 28, 28]))"
      ]
     },
     "execution_count": 63,
     "metadata": {},
     "output_type": "execute_result"
    }
   ],
   "source": [
    "# if you don't provide a dim, 0 will be the default one. \n",
    "a = torch.stack(\n",
    "    tensors=[x, x, x, x],\n",
    "    dim=0\n",
    ")\n",
    "# this would be the same as creating a batch of 4 images, in which each \n",
    "a, a.shape"
   ]
  },
  {
   "cell_type": "markdown",
   "metadata": {},
   "source": [
    "Let's make this pratical, and visualize these tensors as images."
   ]
  },
  {
   "cell_type": "code",
   "execution_count": 64,
   "metadata": {},
   "outputs": [
    {
     "data": {
      "image/png": "[encoded data removed]",
      "text/plain": [
       "<Figure size 640x480 with 1 Axes>"
      ]
     },
     "metadata": {},
     "output_type": "display_data"
    }
   ],
   "source": [
    "import torchvision\n",
    "from torchvision.utils import make_grid\n",
    "import matplotlib.pyplot as plt\n",
    "import torchvision.transforms.functional as F\n",
    "import numpy as np\n",
    "\n",
    "# defines util function\n",
    "def show(imgs):\n",
    "    if not isinstance(imgs, list):\n",
    "        imgs = [imgs]\n",
    "    fig, axs = plt.subplots(ncols=len(imgs), squeeze=False)\n",
    "    for i, img in enumerate(imgs):\n",
    "        img = img.detach()\n",
    "        img = F.to_pil_image(img)\n",
    "        axs[0, i].imshow(np.asarray(img))\n",
    "        axs[0, i].set(xticklabels=[], yticklabels=[], xticks=[], yticks=[])\n",
    "\n",
    "# 4 images with 3 channels\n",
    "grid = make_grid(a)\n",
    "show(grid)"
   ]
  },
  {
   "cell_type": "code",
   "execution_count": 65,
   "metadata": {},
   "outputs": [
    {
     "data": {
      "text/plain": [
       "(tensor([[[[132., 167., 181.,  ..., 208., 146., 189.],\n",
       "           [142.,  79., 207.,  ..., 189.,  61., 169.],\n",
       "           [250., 179., 158.,  ...,  46.,  41., 108.],\n",
       "           ...,\n",
       "           [145.,  74.,  10.,  ...,  75., 118.,   0.],\n",
       "           [ 48., 126.,  28.,  ...,  50., 122., 179.],\n",
       "           [244.,  82., 122.,  ..., 175.,  74.,  58.]],\n",
       " \n",
       "          [[132., 167., 181.,  ..., 208., 146., 189.],\n",
       "           [142.,  79., 207.,  ..., 189.,  61., 169.],\n",
       "           [250., 179., 158.,  ...,  46.,  41., 108.],\n",
       "           ...,\n",
       "           [145.,  74.,  10.,  ...,  75., 118.,   0.],\n",
       "           [ 48., 126.,  28.,  ...,  50., 122., 179.],\n",
       "           [244.,  82., 122.,  ..., 175.,  74.,  58.]],\n",
       " \n",
       "          [[132., 167., 181.,  ..., 208., 146., 189.],\n",
       "           [142.,  79., 207.,  ..., 189.,  61., 169.],\n",
       "           [250., 179., 158.,  ...,  46.,  41., 108.],\n",
       "           ...,\n",
       "           [145.,  74.,  10.,  ...,  75., 118.,   0.],\n",
       "           [ 48., 126.,  28.,  ...,  50., 122., 179.],\n",
       "           [244.,  82., 122.,  ..., 175.,  74.,  58.]],\n",
       " \n",
       "          [[132., 167., 181.,  ..., 208., 146., 189.],\n",
       "           [142.,  79., 207.,  ..., 189.,  61., 169.],\n",
       "           [250., 179., 158.,  ...,  46.,  41., 108.],\n",
       "           ...,\n",
       "           [145.,  74.,  10.,  ...,  75., 118.,   0.],\n",
       "           [ 48., 126.,  28.,  ...,  50., 122., 179.],\n",
       "           [244.,  82., 122.,  ..., 175.,  74.,  58.]]],\n",
       " \n",
       " \n",
       "         [[[  1.,  69., 112.,  ..., 219., 227.,  96.],\n",
       "           [111.,  88., 149.,  ..., 213., 221.,  47.],\n",
       "           [242.,  95., 145.,  ..., 117.,  38.,  16.],\n",
       "           ...,\n",
       "           [141., 146.,  10.,  ..., 170.,  91.,  20.],\n",
       "           [ 15., 136., 244.,  ..., 156.,  33.,  68.],\n",
       "           [105., 252., 134.,  ...,  11., 164.,  39.]],\n",
       " \n",
       "          [[  1.,  69., 112.,  ..., 219., 227.,  96.],\n",
       "           [111.,  88., 149.,  ..., 213., 221.,  47.],\n",
       "           [242.,  95., 145.,  ..., 117.,  38.,  16.],\n",
       "           ...,\n",
       "           [141., 146.,  10.,  ..., 170.,  91.,  20.],\n",
       "           [ 15., 136., 244.,  ..., 156.,  33.,  68.],\n",
       "           [105., 252., 134.,  ...,  11., 164.,  39.]],\n",
       " \n",
       "          [[  1.,  69., 112.,  ..., 219., 227.,  96.],\n",
       "           [111.,  88., 149.,  ..., 213., 221.,  47.],\n",
       "           [242.,  95., 145.,  ..., 117.,  38.,  16.],\n",
       "           ...,\n",
       "           [141., 146.,  10.,  ..., 170.,  91.,  20.],\n",
       "           [ 15., 136., 244.,  ..., 156.,  33.,  68.],\n",
       "           [105., 252., 134.,  ...,  11., 164.,  39.]],\n",
       " \n",
       "          [[  1.,  69., 112.,  ..., 219., 227.,  96.],\n",
       "           [111.,  88., 149.,  ..., 213., 221.,  47.],\n",
       "           [242.,  95., 145.,  ..., 117.,  38.,  16.],\n",
       "           ...,\n",
       "           [141., 146.,  10.,  ..., 170.,  91.,  20.],\n",
       "           [ 15., 136., 244.,  ..., 156.,  33.,  68.],\n",
       "           [105., 252., 134.,  ...,  11., 164.,  39.]]],\n",
       " \n",
       " \n",
       "         [[[229., 102., 249.,  ..., 203.,  50.,  74.],\n",
       "           [  3., 142., 120.,  ..., 112.,  13.,  63.],\n",
       "           [163., 222.,  44.,  ..., 204.,  90., 120.],\n",
       "           ...,\n",
       "           [113., 160., 164.,  ...,  55.,  45., 109.],\n",
       "           [179.,  36.,  30.,  ...,  45.,  69., 100.],\n",
       "           [227., 163.,  65.,  ..., 165., 153., 204.]],\n",
       " \n",
       "          [[229., 102., 249.,  ..., 203.,  50.,  74.],\n",
       "           [  3., 142., 120.,  ..., 112.,  13.,  63.],\n",
       "           [163., 222.,  44.,  ..., 204.,  90., 120.],\n",
       "           ...,\n",
       "           [113., 160., 164.,  ...,  55.,  45., 109.],\n",
       "           [179.,  36.,  30.,  ...,  45.,  69., 100.],\n",
       "           [227., 163.,  65.,  ..., 165., 153., 204.]],\n",
       " \n",
       "          [[229., 102., 249.,  ..., 203.,  50.,  74.],\n",
       "           [  3., 142., 120.,  ..., 112.,  13.,  63.],\n",
       "           [163., 222.,  44.,  ..., 204.,  90., 120.],\n",
       "           ...,\n",
       "           [113., 160., 164.,  ...,  55.,  45., 109.],\n",
       "           [179.,  36.,  30.,  ...,  45.,  69., 100.],\n",
       "           [227., 163.,  65.,  ..., 165., 153., 204.]],\n",
       " \n",
       "          [[229., 102., 249.,  ..., 203.,  50.,  74.],\n",
       "           [  3., 142., 120.,  ..., 112.,  13.,  63.],\n",
       "           [163., 222.,  44.,  ..., 204.,  90., 120.],\n",
       "           ...,\n",
       "           [113., 160., 164.,  ...,  55.,  45., 109.],\n",
       "           [179.,  36.,  30.,  ...,  45.,  69., 100.],\n",
       "           [227., 163.,  65.,  ..., 165., 153., 204.]]]]),\n",
       " torch.Size([3, 4, 28, 28]))"
      ]
     },
     "execution_count": 65,
     "metadata": {},
     "output_type": "execute_result"
    }
   ],
   "source": [
    "# would create a batch of 3 images, with 4 channels that are equal\n",
    "b = torch.stack(\n",
    "    tensors=[x, x, x, x],\n",
    "    dim=1\n",
    ")\n",
    "b, b.shape"
   ]
  },
  {
   "cell_type": "code",
   "execution_count": 66,
   "metadata": {},
   "outputs": [
    {
     "data": {
      "image/png": "[encoded data removed]",
      "text/plain": [
       "<Figure size 640x480 with 1 Axes>"
      ]
     },
     "metadata": {},
     "output_type": "display_data"
    }
   ],
   "source": [
    "# 3 images with 4 channels. All the channels are the same, which means the image should be in grayscale\n",
    "grid = make_grid(b)\n",
    "show(grid)"
   ]
  },
  {
   "cell_type": "code",
   "execution_count": 67,
   "metadata": {},
   "outputs": [
    {
     "data": {
      "text/plain": [
       "(tensor([[[[132., 167., 181.,  ..., 208., 146., 189.],\n",
       "           [132., 167., 181.,  ..., 208., 146., 189.],\n",
       "           [132., 167., 181.,  ..., 208., 146., 189.],\n",
       "           [132., 167., 181.,  ..., 208., 146., 189.]],\n",
       " \n",
       "          [[142.,  79., 207.,  ..., 189.,  61., 169.],\n",
       "           [142.,  79., 207.,  ..., 189.,  61., 169.],\n",
       "           [142.,  79., 207.,  ..., 189.,  61., 169.],\n",
       "           [142.,  79., 207.,  ..., 189.,  61., 169.]],\n",
       " \n",
       "          [[250., 179., 158.,  ...,  46.,  41., 108.],\n",
       "           [250., 179., 158.,  ...,  46.,  41., 108.],\n",
       "           [250., 179., 158.,  ...,  46.,  41., 108.],\n",
       "           [250., 179., 158.,  ...,  46.,  41., 108.]],\n",
       " \n",
       "          ...,\n",
       " \n",
       "          [[145.,  74.,  10.,  ...,  75., 118.,   0.],\n",
       "           [145.,  74.,  10.,  ...,  75., 118.,   0.],\n",
       "           [145.,  74.,  10.,  ...,  75., 118.,   0.],\n",
       "           [145.,  74.,  10.,  ...,  75., 118.,   0.]],\n",
       " \n",
       "          [[ 48., 126.,  28.,  ...,  50., 122., 179.],\n",
       "           [ 48., 126.,  28.,  ...,  50., 122., 179.],\n",
       "           [ 48., 126.,  28.,  ...,  50., 122., 179.],\n",
       "           [ 48., 126.,  28.,  ...,  50., 122., 179.]],\n",
       " \n",
       "          [[244.,  82., 122.,  ..., 175.,  74.,  58.],\n",
       "           [244.,  82., 122.,  ..., 175.,  74.,  58.],\n",
       "           [244.,  82., 122.,  ..., 175.,  74.,  58.],\n",
       "           [244.,  82., 122.,  ..., 175.,  74.,  58.]]],\n",
       " \n",
       " \n",
       "         [[[  1.,  69., 112.,  ..., 219., 227.,  96.],\n",
       "           [  1.,  69., 112.,  ..., 219., 227.,  96.],\n",
       "           [  1.,  69., 112.,  ..., 219., 227.,  96.],\n",
       "           [  1.,  69., 112.,  ..., 219., 227.,  96.]],\n",
       " \n",
       "          [[111.,  88., 149.,  ..., 213., 221.,  47.],\n",
       "           [111.,  88., 149.,  ..., 213., 221.,  47.],\n",
       "           [111.,  88., 149.,  ..., 213., 221.,  47.],\n",
       "           [111.,  88., 149.,  ..., 213., 221.,  47.]],\n",
       " \n",
       "          [[242.,  95., 145.,  ..., 117.,  38.,  16.],\n",
       "           [242.,  95., 145.,  ..., 117.,  38.,  16.],\n",
       "           [242.,  95., 145.,  ..., 117.,  38.,  16.],\n",
       "           [242.,  95., 145.,  ..., 117.,  38.,  16.]],\n",
       " \n",
       "          ...,\n",
       " \n",
       "          [[141., 146.,  10.,  ..., 170.,  91.,  20.],\n",
       "           [141., 146.,  10.,  ..., 170.,  91.,  20.],\n",
       "           [141., 146.,  10.,  ..., 170.,  91.,  20.],\n",
       "           [141., 146.,  10.,  ..., 170.,  91.,  20.]],\n",
       " \n",
       "          [[ 15., 136., 244.,  ..., 156.,  33.,  68.],\n",
       "           [ 15., 136., 244.,  ..., 156.,  33.,  68.],\n",
       "           [ 15., 136., 244.,  ..., 156.,  33.,  68.],\n",
       "           [ 15., 136., 244.,  ..., 156.,  33.,  68.]],\n",
       " \n",
       "          [[105., 252., 134.,  ...,  11., 164.,  39.],\n",
       "           [105., 252., 134.,  ...,  11., 164.,  39.],\n",
       "           [105., 252., 134.,  ...,  11., 164.,  39.],\n",
       "           [105., 252., 134.,  ...,  11., 164.,  39.]]],\n",
       " \n",
       " \n",
       "         [[[229., 102., 249.,  ..., 203.,  50.,  74.],\n",
       "           [229., 102., 249.,  ..., 203.,  50.,  74.],\n",
       "           [229., 102., 249.,  ..., 203.,  50.,  74.],\n",
       "           [229., 102., 249.,  ..., 203.,  50.,  74.]],\n",
       " \n",
       "          [[  3., 142., 120.,  ..., 112.,  13.,  63.],\n",
       "           [  3., 142., 120.,  ..., 112.,  13.,  63.],\n",
       "           [  3., 142., 120.,  ..., 112.,  13.,  63.],\n",
       "           [  3., 142., 120.,  ..., 112.,  13.,  63.]],\n",
       " \n",
       "          [[163., 222.,  44.,  ..., 204.,  90., 120.],\n",
       "           [163., 222.,  44.,  ..., 204.,  90., 120.],\n",
       "           [163., 222.,  44.,  ..., 204.,  90., 120.],\n",
       "           [163., 222.,  44.,  ..., 204.,  90., 120.]],\n",
       " \n",
       "          ...,\n",
       " \n",
       "          [[113., 160., 164.,  ...,  55.,  45., 109.],\n",
       "           [113., 160., 164.,  ...,  55.,  45., 109.],\n",
       "           [113., 160., 164.,  ...,  55.,  45., 109.],\n",
       "           [113., 160., 164.,  ...,  55.,  45., 109.]],\n",
       " \n",
       "          [[179.,  36.,  30.,  ...,  45.,  69., 100.],\n",
       "           [179.,  36.,  30.,  ...,  45.,  69., 100.],\n",
       "           [179.,  36.,  30.,  ...,  45.,  69., 100.],\n",
       "           [179.,  36.,  30.,  ...,  45.,  69., 100.]],\n",
       " \n",
       "          [[227., 163.,  65.,  ..., 165., 153., 204.],\n",
       "           [227., 163.,  65.,  ..., 165., 153., 204.],\n",
       "           [227., 163.,  65.,  ..., 165., 153., 204.],\n",
       "           [227., 163.,  65.,  ..., 165., 153., 204.]]]]),\n",
       " torch.Size([3, 28, 4, 28]))"
      ]
     },
     "execution_count": 67,
     "metadata": {},
     "output_type": "execute_result"
    }
   ],
   "source": [
    "c = torch.stack(\n",
    "    tensors=[x, x, x, x],\n",
    "    dim=2\n",
    ")\n",
    "c, c.shape"
   ]
  },
  {
   "cell_type": "code",
   "execution_count": 69,
   "metadata": {},
   "outputs": [
    {
     "ename": "ValueError",
     "evalue": "pic should not have > 4 channels. Got 28 channels.",
     "output_type": "error",
     "traceback": [
      "\u001b[0;31m---------------------------------------------------------------------------\u001b[0m",
      "\u001b[0;31mValueError\u001b[0m                                Traceback (most recent call last)",
      "\u001b[0;32m<ipython-input-69-38488cfc3e12>\u001b[0m in \u001b[0;36m<cell line: 3>\u001b[0;34m()\u001b[0m\n\u001b[1;32m      1\u001b[0m \u001b[0;31m# 3 images with 28 channels, and shape 4x28\u001b[0m\u001b[0;34m\u001b[0m\u001b[0;34m\u001b[0m\u001b[0m\n\u001b[1;32m      2\u001b[0m \u001b[0mgrid\u001b[0m \u001b[0;34m=\u001b[0m \u001b[0mmake_grid\u001b[0m\u001b[0;34m(\u001b[0m\u001b[0mc\u001b[0m\u001b[0;34m)\u001b[0m\u001b[0;34m\u001b[0m\u001b[0;34m\u001b[0m\u001b[0m\n\u001b[0;32m----> 3\u001b[0;31m \u001b[0mshow\u001b[0m\u001b[0;34m(\u001b[0m\u001b[0mgrid\u001b[0m\u001b[0;34m)\u001b[0m\u001b[0;34m\u001b[0m\u001b[0;34m\u001b[0m\u001b[0m\n\u001b[0m",
      "\u001b[0;32m<ipython-input-64-65599a5bb3cd>\u001b[0m in \u001b[0;36mshow\u001b[0;34m(imgs)\u001b[0m\n\u001b[1;32m     12\u001b[0m     \u001b[0;32mfor\u001b[0m \u001b[0mi\u001b[0m\u001b[0;34m,\u001b[0m \u001b[0mimg\u001b[0m \u001b[0;32min\u001b[0m \u001b[0menumerate\u001b[0m\u001b[0;34m(\u001b[0m\u001b[0mimgs\u001b[0m\u001b[0;34m)\u001b[0m\u001b[0;34m:\u001b[0m\u001b[0;34m\u001b[0m\u001b[0;34m\u001b[0m\u001b[0m\n\u001b[1;32m     13\u001b[0m         \u001b[0mimg\u001b[0m \u001b[0;34m=\u001b[0m \u001b[0mimg\u001b[0m\u001b[0;34m.\u001b[0m\u001b[0mdetach\u001b[0m\u001b[0;34m(\u001b[0m\u001b[0;34m)\u001b[0m\u001b[0;34m\u001b[0m\u001b[0;34m\u001b[0m\u001b[0m\n\u001b[0;32m---> 14\u001b[0;31m         \u001b[0mimg\u001b[0m \u001b[0;34m=\u001b[0m \u001b[0mF\u001b[0m\u001b[0;34m.\u001b[0m\u001b[0mto_pil_image\u001b[0m\u001b[0;34m(\u001b[0m\u001b[0mimg\u001b[0m\u001b[0;34m)\u001b[0m\u001b[0;34m\u001b[0m\u001b[0;34m\u001b[0m\u001b[0m\n\u001b[0m\u001b[1;32m     15\u001b[0m         \u001b[0maxs\u001b[0m\u001b[0;34m[\u001b[0m\u001b[0;36m0\u001b[0m\u001b[0;34m,\u001b[0m \u001b[0mi\u001b[0m\u001b[0;34m]\u001b[0m\u001b[0;34m.\u001b[0m\u001b[0mimshow\u001b[0m\u001b[0;34m(\u001b[0m\u001b[0mnp\u001b[0m\u001b[0;34m.\u001b[0m\u001b[0masarray\u001b[0m\u001b[0;34m(\u001b[0m\u001b[0mimg\u001b[0m\u001b[0;34m)\u001b[0m\u001b[0;34m)\u001b[0m\u001b[0;34m\u001b[0m\u001b[0;34m\u001b[0m\u001b[0m\n\u001b[1;32m     16\u001b[0m         \u001b[0maxs\u001b[0m\u001b[0;34m[\u001b[0m\u001b[0;36m0\u001b[0m\u001b[0;34m,\u001b[0m \u001b[0mi\u001b[0m\u001b[0;34m]\u001b[0m\u001b[0;34m.\u001b[0m\u001b[0mset\u001b[0m\u001b[0;34m(\u001b[0m\u001b[0mxticklabels\u001b[0m\u001b[0;34m=\u001b[0m\u001b[0;34m[\u001b[0m\u001b[0;34m]\u001b[0m\u001b[0;34m,\u001b[0m \u001b[0myticklabels\u001b[0m\u001b[0;34m=\u001b[0m\u001b[0;34m[\u001b[0m\u001b[0;34m]\u001b[0m\u001b[0;34m,\u001b[0m \u001b[0mxticks\u001b[0m\u001b[0;34m=\u001b[0m\u001b[0;34m[\u001b[0m\u001b[0;34m]\u001b[0m\u001b[0;34m,\u001b[0m \u001b[0myticks\u001b[0m\u001b[0;34m=\u001b[0m\u001b[0;34m[\u001b[0m\u001b[0;34m]\u001b[0m\u001b[0;34m)\u001b[0m\u001b[0;34m\u001b[0m\u001b[0;34m\u001b[0m\u001b[0m\n",
      "\u001b[0;32m/usr/local/lib/python3.10/dist-packages/torchvision/transforms/functional.py\u001b[0m in \u001b[0;36mto_pil_image\u001b[0;34m(pic, mode)\u001b[0m\n\u001b[1;32m    275\u001b[0m \u001b[0;34m\u001b[0m\u001b[0m\n\u001b[1;32m    276\u001b[0m     \u001b[0;32mif\u001b[0m \u001b[0mpic\u001b[0m\u001b[0;34m.\u001b[0m\u001b[0mshape\u001b[0m\u001b[0;34m[\u001b[0m\u001b[0;34m-\u001b[0m\u001b[0;36m1\u001b[0m\u001b[0;34m]\u001b[0m \u001b[0;34m>\u001b[0m \u001b[0;36m4\u001b[0m\u001b[0;34m:\u001b[0m\u001b[0;34m\u001b[0m\u001b[0;34m\u001b[0m\u001b[0m\n\u001b[0;32m--> 277\u001b[0;31m         \u001b[0;32mraise\u001b[0m \u001b[0mValueError\u001b[0m\u001b[0;34m(\u001b[0m\u001b[0;34mf\"pic should not have > 4 channels. Got {pic.shape[-1]} channels.\"\u001b[0m\u001b[0;34m)\u001b[0m\u001b[0;34m\u001b[0m\u001b[0;34m\u001b[0m\u001b[0m\n\u001b[0m\u001b[1;32m    278\u001b[0m \u001b[0;34m\u001b[0m\u001b[0m\n\u001b[1;32m    279\u001b[0m     \u001b[0mnpimg\u001b[0m \u001b[0;34m=\u001b[0m \u001b[0mpic\u001b[0m\u001b[0;34m\u001b[0m\u001b[0;34m\u001b[0m\u001b[0m\n",
      "\u001b[0;31mValueError\u001b[0m: pic should not have > 4 channels. Got 28 channels."
     ]
    },
    {
     "data": {
      "image/png": "[encoded data removed]",
      "text/plain": [
       "<Figure size 640x480 with 1 Axes>"
      ]
     },
     "metadata": {},
     "output_type": "display_data"
    }
   ],
   "source": [
    "# 3 images with 28 channels, and shape 4x28\n",
    "grid = make_grid(c)\n",
    "show(grid)"
   ]
  },
  {
   "cell_type": "code",
   "execution_count": 70,
   "metadata": {},
   "outputs": [
    {
     "data": {
      "image/png": "[encoded data removed]",
      "text/plain": [
       "<Figure size 640x480 with 1 Axes>"
      ]
     },
     "metadata": {},
     "output_type": "display_data"
    }
   ],
   "source": [
    "# let's use the previous learned methods to fix this\n",
    "c = c.reshape(3, 4, 28, 28)\n",
    "# 3 images, 4 channels, and 28x28 of size\n",
    "grid = make_grid(c)\n",
    "show(grid)"
   ]
  },
  {
   "cell_type": "code",
   "execution_count": 71,
   "metadata": {},
   "outputs": [
    {
     "data": {
      "image/png": "[encoded data removed]",
      "text/plain": [
       "<Figure size 640x480 with 1 Axes>"
      ]
     },
     "metadata": {},
     "output_type": "display_data"
    }
   ],
   "source": [
    "# let's play around a little bit more\n",
    "c = c.reshape(28, 3, 4, 28)\n",
    "# 28 images, with 3 channels, and shape 4x28\n",
    "grid = make_grid(c)\n",
    "show(grid)"
   ]
  },
  {
   "cell_type": "markdown",
   "metadata": {},
   "source": [
    "## Max, min and other values\n",
    "\n",
    "Sometimes it is useful to extract information from tensors. For example, extracting the index where the maximum value in classifiers can mean extracting the class that the model predicts."
   ]
  },
  {
   "cell_type": "markdown",
   "metadata": {},
   "source": [
    "### Max, min, mean and sum\n",
    "\n",
    "Let's check how can we easily find these values on any tensor"
   ]
  },
  {
   "cell_type": "code",
   "execution_count": 72,
   "metadata": {},
   "outputs": [
    {
     "data": {
      "text/plain": [
       "tensor([[1.0193, 1.0149, 1.0090,  ..., 1.0049, 1.0078, 1.0003],\n",
       "        [1.0064, 1.0058, 1.0107,  ..., 1.0036, 1.0048, 1.0135],\n",
       "        [1.0053, 1.0211, 0.9948,  ..., 1.0025, 1.0094, 1.0071],\n",
       "        ...,\n",
       "        [0.9973, 1.0149, 1.0086,  ..., 1.0079, 1.0006, 1.0009],\n",
       "        [0.9956, 0.9989, 0.9940,  ..., 0.9989, 1.0186, 0.9778],\n",
       "        [1.0093, 1.0165, 1.0138,  ..., 1.0082, 0.9915, 1.0079]])"
      ]
     },
     "execution_count": 72,
     "metadata": {},
     "output_type": "execute_result"
    }
   ],
   "source": [
    "torch.manual_seed(42)\n",
    "x = torch.normal(mean=1.0, std=1e-2, size=(100, 100))\n",
    "x"
   ]
  },
  {
   "cell_type": "code",
   "execution_count": 73,
   "metadata": {},
   "outputs": [
    {
     "data": {
      "text/plain": [
       "tensor(1.0422)"
      ]
     },
     "execution_count": 73,
     "metadata": {},
     "output_type": "execute_result"
    }
   ],
   "source": [
    "x.max()"
   ]
  },
  {
   "cell_type": "code",
   "execution_count": 74,
   "metadata": {},
   "outputs": [
    {
     "data": {
      "text/plain": [
       "tensor(0.9617)"
      ]
     },
     "execution_count": 74,
     "metadata": {},
     "output_type": "execute_result"
    }
   ],
   "source": [
    "x.min()"
   ]
  },
  {
   "cell_type": "code",
   "execution_count": 75,
   "metadata": {},
   "outputs": [
    {
     "data": {
      "text/plain": [
       "tensor(1.0001)"
      ]
     },
     "execution_count": 75,
     "metadata": {},
     "output_type": "execute_result"
    }
   ],
   "source": [
    "x.mean()"
   ]
  },
  {
   "cell_type": "code",
   "execution_count": 76,
   "metadata": {},
   "outputs": [
    {
     "data": {
      "text/plain": [
       "tensor(10000.6445)"
      ]
     },
     "execution_count": 76,
     "metadata": {},
     "output_type": "execute_result"
    }
   ],
   "source": [
    "x.sum()"
   ]
  },
  {
   "cell_type": "markdown",
   "metadata": {},
   "source": [
    "Another way is using the methods like `torch.max()` and `torch.mean()`"
   ]
  },
  {
   "cell_type": "code",
   "execution_count": 77,
   "metadata": {},
   "outputs": [
    {
     "data": {
      "text/plain": [
       "{'max': tensor(1.0422),\n",
       " 'min': tensor(0.9617),\n",
       " 'mean': tensor(1.0001),\n",
       " 'sum': tensor(10000.6445)}"
      ]
     },
     "execution_count": 77,
     "metadata": {},
     "output_type": "execute_result"
    }
   ],
   "source": [
    "{\n",
    "    \"max\": torch.max(x),\n",
    "    \"min\": torch.min(x),\n",
    "    \"mean\": torch.mean(x),\n",
    "    \"sum\": torch.sum(x)\n",
    "}"
   ]
  },
  {
   "cell_type": "markdown",
   "metadata": {},
   "source": [
    "### Finding the position of the max and min values\n",
    "\n",
    "This is important, for example, in classification, where the position of the max value represents the class it belongs to."
   ]
  },
  {
   "cell_type": "code",
   "execution_count": 78,
   "metadata": {},
   "outputs": [
    {
     "data": {
      "text/plain": [
       "tensor([[  3367.9036,   1289.0940],\n",
       "        [  2345.6235,   2304.3303],\n",
       "        [-11227.5635,  -1862.2830]])"
      ]
     },
     "execution_count": 78,
     "metadata": {},
     "output_type": "execute_result"
    }
   ],
   "source": [
    "torch.manual_seed(42)\n",
    "x = torch.normal(mean=1.0, std=1e4, size=(3, 2))\n",
    "x"
   ]
  },
  {
   "cell_type": "code",
   "execution_count": 79,
   "metadata": {},
   "outputs": [
    {
     "data": {
      "text/plain": [
       "tensor(0)"
      ]
     },
     "execution_count": 79,
     "metadata": {},
     "output_type": "execute_result"
    }
   ],
   "source": [
    "x.argmax()"
   ]
  },
  {
   "cell_type": "markdown",
   "metadata": {},
   "source": [
    "If you don't provide a dimension parameter to the `.argmax()` method, the tensor will be flattened and the resulting argmax value will be the index of the flattened tensor."
   ]
  },
  {
   "cell_type": "code",
   "execution_count": 80,
   "metadata": {},
   "outputs": [
    {
     "name": "stdout",
     "output_type": "stream",
     "text": [
      "tensor([  3367.9036,   1289.0940,   2345.6235,   2304.3303, -11227.5635,\n",
      "         -1862.2830])\n"
     ]
    },
    {
     "data": {
      "text/plain": [
       "tensor(0)"
      ]
     },
     "execution_count": 80,
     "metadata": {},
     "output_type": "execute_result"
    }
   ],
   "source": [
    "print(x.flatten())\n",
    "x.flatten().argmax()"
   ]
  },
  {
   "cell_type": "markdown",
   "metadata": {},
   "source": [
    "You can also define the dimention which should be used."
   ]
  },
  {
   "cell_type": "code",
   "execution_count": 81,
   "metadata": {},
   "outputs": [
    {
     "data": {
      "text/plain": [
       "tensor([0, 1])"
      ]
     },
     "execution_count": 81,
     "metadata": {},
     "output_type": "execute_result"
    }
   ],
   "source": [
    "x.argmax(\n",
    "    dim=0\n",
    ")"
   ]
  },
  {
   "cell_type": "code",
   "execution_count": 82,
   "metadata": {},
   "outputs": [
    {
     "data": {
      "text/plain": [
       "tensor([0, 0, 1])"
      ]
     },
     "execution_count": 82,
     "metadata": {},
     "output_type": "execute_result"
    }
   ],
   "source": [
    "x.argmax(\n",
    "    dim=1\n",
    ")"
   ]
  },
  {
   "cell_type": "markdown",
   "metadata": {},
   "source": [
    "As you can see, the argmax now returns the positional max based on the chosen dimensions. In other words, choosing `dim=0` will give you the maximum values per columns. Choosing `dim=1` will give you the maximum values per row. Let's check this on 3D tensors."
   ]
  },
  {
   "cell_type": "code",
   "execution_count": 83,
   "metadata": {},
   "outputs": [
    {
     "data": {
      "text/plain": [
       "tensor([[[ 19270.1523,  14873.8408,   9008.1719, -21054.2090],\n",
       "         [  6785.1846, -12344.4492,   -429.6748, -16045.6699]],\n",
       "\n",
       "        [[  3559.5991,  -6865.2300,  -4932.5635,   2415.8779],\n",
       "         [-11108.0391,    916.4565, -23168.2266,  -2167.0474]],\n",
       "\n",
       "        [[ -3096.2678,  -3956.1050,   8035.0933,  -6214.9536],\n",
       "         [ -5919.0054,   -629.7438,  -8284.5430,   3309.9844]]])"
      ]
     },
     "execution_count": 83,
     "metadata": {},
     "output_type": "execute_result"
    }
   ],
   "source": [
    "torch.manual_seed(42)\n",
    "x = torch.normal(mean=1.0, std=1e4, size=(3, 2, 4))\n",
    "x"
   ]
  },
  {
   "cell_type": "code",
   "execution_count": 84,
   "metadata": {},
   "outputs": [
    {
     "data": {
      "text/plain": [
       "tensor([[0, 0, 0, 1],\n",
       "        [0, 1, 0, 2]])"
      ]
     },
     "execution_count": 84,
     "metadata": {},
     "output_type": "execute_result"
    }
   ],
   "source": [
    "x.argmax(\n",
    "    dim=0\n",
    ")"
   ]
  },
  {
   "cell_type": "code",
   "execution_count": 85,
   "metadata": {},
   "outputs": [
    {
     "data": {
      "text/plain": [
       "tensor([[0, 0, 0, 1],\n",
       "        [0, 1, 0, 0],\n",
       "        [0, 1, 0, 1]])"
      ]
     },
     "execution_count": 85,
     "metadata": {},
     "output_type": "execute_result"
    }
   ],
   "source": [
    "x.argmax(\n",
    "    dim=1\n",
    ")"
   ]
  },
  {
   "cell_type": "code",
   "execution_count": 86,
   "metadata": {},
   "outputs": [
    {
     "data": {
      "text/plain": [
       "tensor([[0, 0],\n",
       "        [0, 1],\n",
       "        [2, 3]])"
      ]
     },
     "execution_count": 86,
     "metadata": {},
     "output_type": "execute_result"
    }
   ],
   "source": [
    "x.argmax(\n",
    "    dim=2\n",
    ")"
   ]
  },
  {
   "cell_type": "markdown",
   "metadata": {},
   "source": [
    "The `.argmin()` method have the same properties described above, but instead provides the position of the minimum values."
   ]
  },
  {
   "cell_type": "code",
   "execution_count": 87,
   "metadata": {},
   "outputs": [
    {
     "data": {
      "text/plain": [
       "tensor([[  3367.9036,   1289.0940],\n",
       "        [  2345.6235,   2304.3303],\n",
       "        [-11227.5635,  -1862.2830]])"
      ]
     },
     "execution_count": 87,
     "metadata": {},
     "output_type": "execute_result"
    }
   ],
   "source": [
    "torch.manual_seed(42)\n",
    "x = torch.normal(mean=1.0, std=1e4, size=(3, 2))\n",
    "x"
   ]
  },
  {
   "cell_type": "code",
   "execution_count": 88,
   "metadata": {},
   "outputs": [
    {
     "data": {
      "text/plain": [
       "tensor(4)"
      ]
     },
     "execution_count": 88,
     "metadata": {},
     "output_type": "execute_result"
    }
   ],
   "source": [
    "x.argmin()"
   ]
  },
  {
   "cell_type": "code",
   "execution_count": 89,
   "metadata": {},
   "outputs": [
    {
     "name": "stdout",
     "output_type": "stream",
     "text": [
      "tensor([  3367.9036,   1289.0940,   2345.6235,   2304.3303, -11227.5635,\n",
      "         -1862.2830])\n"
     ]
    },
    {
     "data": {
      "text/plain": [
       "tensor(4)"
      ]
     },
     "execution_count": 89,
     "metadata": {},
     "output_type": "execute_result"
    }
   ],
   "source": [
    "print(x.flatten())\n",
    "x.flatten().argmin()"
   ]
  },
  {
   "cell_type": "code",
   "execution_count": 90,
   "metadata": {},
   "outputs": [
    {
     "data": {
      "text/plain": [
       "tensor([2, 2])"
      ]
     },
     "execution_count": 90,
     "metadata": {},
     "output_type": "execute_result"
    }
   ],
   "source": [
    "x.argmin(\n",
    "    dim=0\n",
    ")"
   ]
  },
  {
   "cell_type": "code",
   "execution_count": 91,
   "metadata": {},
   "outputs": [
    {
     "data": {
      "text/plain": [
       "tensor([1, 1, 0])"
      ]
     },
     "execution_count": 91,
     "metadata": {},
     "output_type": "execute_result"
    }
   ],
   "source": [
    "x.argmin(\n",
    "    dim=1\n",
    ")"
   ]
  },
  {
   "cell_type": "code",
   "execution_count": null,
   "metadata": {},
   "outputs": [],
   "source": []
  }
 ],
 "metadata": {
  "kernelspec": {
   "display_name": "Python 3",
   "language": "python",
   "name": "python3"
  },
  "language_info": {
   "codemirror_mode": {
    "name": "ipython",
    "version": 3
   },
   "file_extension": ".py",
   "mimetype": "text/x-python",
   "name": "python",
   "nbconvert_exporter": "python",
   "pygments_lexer": "ipython3",
   "version": "3.10.12"
  }
 },
 "nbformat": 4,
 "nbformat_minor": 2
}
